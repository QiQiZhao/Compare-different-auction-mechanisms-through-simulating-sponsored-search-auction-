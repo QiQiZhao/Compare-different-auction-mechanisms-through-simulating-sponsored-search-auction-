{
 "cells": [
  {
   "cell_type": "code",
   "execution_count": 1,
   "metadata": {},
   "outputs": [],
   "source": [
    "import numpy as np\n",
    "import pandas as pd\n",
    "import matplotlib.pyplot as plt\n",
    "import os"
   ]
  },
  {
   "cell_type": "code",
   "execution_count": 2,
   "metadata": {},
   "outputs": [],
   "source": [
    "class Slot:\n",
    "    CTR=-1\n",
    "    Owner=\"NoName\"\n",
    "    impression=0\n",
    "    click=0\n",
    "    Cost=0\n",
    "\n",
    "    def __init__(self, Ctr,imp,c):\n",
    "        self.CTR=Ctr\n",
    "        self.impression=imp\n",
    "        self.click=c"
   ]
  },
  {
   "cell_type": "code",
   "execution_count": 3,
   "metadata": {},
   "outputs": [],
   "source": [
    "class Bid:\n",
    "    bid=-1\n",
    "    bidder=\"NoName\"\n",
    "    quality=1\n",
    "#     trueValue=0\n",
    "    \n",
    "    def __init__(self, Bidder,Bid,qua):\n",
    "        self.bid=Bid\n",
    "        self.bidder=Bidder\n",
    "        self.quality=qua"
   ]
  },
  {
   "cell_type": "code",
   "execution_count": 5,
   "metadata": {},
   "outputs": [],
   "source": [
    "class Auction:\n",
    "    KeywordID=-1\n",
    "    bids=[]\n",
    "    \n",
    "    def __init__(self,K_ID,bid):\n",
    "        self.bids=[]\n",
    "        self.KeywordID = K_ID\n",
    "        for i in range(len(bid)):\n",
    "            self.bids.append(bid[i])\n",
    "# VCG Mechanism\n",
    "    def VCG(self,slots):\n",
    "        length = len(slots)\n",
    "        \n",
    "# Sort out bids through Score=Bid times Quality \n",
    "        for i in range(len(slots)):\n",
    "            sum=0\n",
    "            \n",
    "            for j in range(i+1,len(slots)+1):\n",
    "                if j!=(len(slots)):\n",
    "                    sum+=self.bids[j].bid*(slots[j-1].CTR - slots[j].CTR)\n",
    "                else:\n",
    "                    sum+=self.bids[j].bid*(slots[j-1].CTR - 0)\n",
    "                    \n",
    "            slots[i].Cost=sum*(1/slots[i].CTR)\n",
    "        \n",
    "        for i in range(0, length):\n",
    "            slots[i].Owner = self.bids[i].bidder\n",
    "            \n",
    "# GSP Mechansim  \n",
    "    def GSP(self,slots):\n",
    "        length = len(slots)\n",
    "        \n",
    "        for i in range(len(self.bids)):\n",
    "            for j in range(i+1,len(self.bids)):\n",
    "                if (self.bids[i].bid*self.bids[i].quality)<(self.bids[j].bid*self.bids[j].quality):\n",
    "                    temp=self.bids[i]\n",
    "                    self.bids[i]=self.bids[j]\n",
    "                    self.bids[j]=temp\n",
    "\n",
    "        for i in range(length):\n",
    "            slots[i].Cost =(self.bids[i+1].bid*self.bids[i+1].quality)/self.bids[i].quality\n",
    "#             slots[i].Cost =self.bids[i+1].bid\n",
    "            \n",
    "        for i in range(0, length):\n",
    "            slots[i].Owner = self.bids[i].bidder\n",
    "\n",
    "# GSP Mechansim--NO Quality score           \n",
    "    def GSPnq(self,slots):\n",
    "        length=len(slots)\n",
    "        \n",
    "        for i in range(length):\n",
    "            slots[i].Cost=self.bids[i+1].bid\n",
    "        \n",
    "        for i in range(length):\n",
    "            slots[i].Owner = self.bids[i].bidder\n",
    "\n",
    "# GFP Mechansim           \n",
    "    def GFP(self,slots):\n",
    "        length=len(slots)\n",
    "        \n",
    "        for i in range(length):\n",
    "            slots[i].Cost=self.bids[i].bid\n",
    "        \n",
    "        for i in range(length):\n",
    "            slots[i].Owner = self.bids[i].bidder"
   ]
  },
  {
   "cell_type": "code",
   "execution_count": 7,
   "metadata": {},
   "outputs": [],
   "source": [
    "BidderList=['A','B','C']\n",
    "BidList=[8,6,3]\n",
    "QuaList=[0.6,0.9,0.5]\n",
    "slotCTR=[0.8,0.6]\n",
    "impList=[1000,800]\n",
    "clickList=[800,480]"
   ]
  },
  {
   "cell_type": "code",
   "execution_count": 9,
   "metadata": {},
   "outputs": [],
   "source": [
    "bidList=[]\n",
    "slotList=[]\n",
    "for i in range(3):\n",
    "    b=Bid(BidderList[i],BidList[i],QuaList[i])\n",
    "    bidList.append(b)\n",
    "for i in range(2):\n",
    "    s=Slot(slotCTR[i],impList[i],clickList[i])\n",
    "    slotList.append(s)"
   ]
  },
  {
   "cell_type": "code",
   "execution_count": 11,
   "metadata": {},
   "outputs": [],
   "source": [
    "KeyWord=\"Test Code\""
   ]
  },
  {
   "cell_type": "code",
   "execution_count": 26,
   "metadata": {},
   "outputs": [
    {
     "name": "stdout",
     "output_type": "stream",
     "text": [
      "           Cost(per click)   Bidder ID\n",
      "\n",
      "slot  1:       8.00             A\n",
      "slot  2:       6.00             B\n"
     ]
    }
   ],
   "source": [
    "auctionGFP = Auction(KeyWord,bidList)\n",
    "auctionGFP.GFP(slotList)\n",
    "print(\"           %8s   %8s\\n\" % (\"Cost(per click)\", \"Bidder ID\"))\n",
    "for i,slot in enumerate(slotList):\n",
    "    print(\"slot %2.0f:   %8.2f             %s\" % (i+1, float(slot.Cost), slot.Owner))\n",
    "ClickTime=0"
   ]
  },
  {
   "cell_type": "code",
   "execution_count": 27,
   "metadata": {},
   "outputs": [
    {
     "name": "stdout",
     "output_type": "stream",
     "text": [
      "           Cost(per click)   Bidder ID\n",
      "\n",
      "slot  1:       5.33             B\n",
      "slot  2:       2.50             A\n"
     ]
    }
   ],
   "source": [
    "auctionGSP = Auction(KeyWord,bidList)\n",
    "auctionGSP.GSP(slotList)\n",
    "print(\"           %8s   %8s\\n\" % (\"Cost(per click)\", \"Bidder ID\"))\n",
    "for i,slot in enumerate(slotList):\n",
    "    print(\"slot %2.0f:   %8.2f             %s\" % (i+1, float(slot.Cost), slot.Owner))\n",
    "ClickTime=0"
   ]
  },
  {
   "cell_type": "code",
   "execution_count": 29,
   "metadata": {},
   "outputs": [
    {
     "name": "stdout",
     "output_type": "stream",
     "text": [
      "           Cost(per click)   Bidder ID\n",
      "\n",
      "slot  1:       6.00             A\n",
      "slot  2:       3.00             B\n"
     ]
    }
   ],
   "source": [
    "auctionGSP2 = Auction(KeyWord,bidList)\n",
    "auctionGSP2.GSPnq(slotList)\n",
    "print(\"           %8s   %8s\\n\" % (\"Cost(per click)\", \"Bidder ID\"))\n",
    "for i,slot in enumerate(slotList):\n",
    "    print(\"slot %2.0f:   %8.2f             %s\" % (i+1, float(slot.Cost), slot.Owner))\n",
    "ClickTime=0"
   ]
  },
  {
   "cell_type": "code",
   "execution_count": 30,
   "metadata": {},
   "outputs": [
    {
     "name": "stdout",
     "output_type": "stream",
     "text": [
      "           Cost(per click)   Bidder ID\n",
      "\n",
      "slot  1:       3.75             A\n",
      "slot  2:       3.00             B\n"
     ]
    }
   ],
   "source": [
    "auctionVCG= Auction(KeyWord,bidList)\n",
    "auctionVCG.VCG(slotList)\n",
    "print(\"           %8s   %8s\\n\" % (\"Cost(per click)\", \"Bidder ID\"))\n",
    "for i,slot in enumerate(slotList):\n",
    "    print(\"slot %2.0f:   %8.2f             %s\" % (i+1, float(slot.Cost), slot.Owner))\n",
    "ClickTime=0"
   ]
  },
  {
   "cell_type": "code",
   "execution_count": null,
   "metadata": {},
   "outputs": [],
   "source": []
  }
 ],
 "metadata": {
  "kernelspec": {
   "display_name": "Python 3",
   "language": "python",
   "name": "python3"
  },
  "language_info": {
   "codemirror_mode": {
    "name": "ipython",
    "version": 3
   },
   "file_extension": ".py",
   "mimetype": "text/x-python",
   "name": "python",
   "nbconvert_exporter": "python",
   "pygments_lexer": "ipython3",
   "version": "3.7.3"
  }
 },
 "nbformat": 4,
 "nbformat_minor": 2
}
