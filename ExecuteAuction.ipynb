{
 "cells": [
  {
   "cell_type": "code",
   "execution_count": 1,
   "metadata": {},
   "outputs": [],
   "source": [
    "import numpy as np\n",
    "import pandas as pd\n",
    "import matplotlib.pyplot as plt\n",
    "import os"
   ]
  },
  {
   "cell_type": "code",
   "execution_count": 2,
   "metadata": {},
   "outputs": [],
   "source": [
    "Pdata= pd.read_csv('AuctionData.csv')\n",
    "PositionCTR=pd.read_csv(\"CTR10.csv\")"
   ]
  },
  {
   "cell_type": "code",
   "execution_count": 3,
   "metadata": {},
   "outputs": [],
   "source": [
    "path=\"Keyword6\""
   ]
  },
  {
   "cell_type": "code",
   "execution_count": 4,
   "metadata": {},
   "outputs": [],
   "source": [
    "GFPK1=pd.read_csv(path+\"\\BidMatrixGFP.csv\")\n",
    "GSPK1=pd.read_csv(path+\"\\BidMatrixGSP.csv\")\n",
    "QualityScore=pd.read_csv(path+\"\\QualityScore.csv\")\n",
    "ClickRate=pd.read_csv(path+\"\\Clickrate.csv\")\n",
    "BidData=pd.read_csv(path+\"\\BidArray.csv\")"
   ]
  },
  {
   "cell_type": "code",
   "execution_count": 5,
   "metadata": {},
   "outputs": [],
   "source": [
    "class Slot:\n",
    "    CTR=-1\n",
    "    Owner=\"NoName\"\n",
    "    impression=0\n",
    "    click=0\n",
    "    Cost=0\n",
    "\n",
    "    def __init__(self, Ctr,imp,c):\n",
    "        self.CTR=Ctr\n",
    "        self.impression=imp\n",
    "        self.click=c"
   ]
  },
  {
   "cell_type": "code",
   "execution_count": 6,
   "metadata": {},
   "outputs": [],
   "source": [
    "class Bid:\n",
    "    bid=-1\n",
    "    bidder=\"NoName\"\n",
    "    quality=1\n",
    "    \n",
    "    def __init__(self, Bidder,Bid,qua):\n",
    "        self.bid=Bid\n",
    "        self.bidder=Bidder\n",
    "        self.quality=qua"
   ]
  },
  {
   "cell_type": "code",
   "execution_count": 154,
   "metadata": {},
   "outputs": [],
   "source": [
    "class Auction:\n",
    "    KeywordID=-1\n",
    "    bids=[]   \n",
    "    def __init__(self,K_ID,bid):\n",
    "        self.bids=[]\n",
    "        self.KeywordID = K_ID\n",
    "        for i in range(len(bid)):\n",
    "            self.bids.append(bid[i])\n",
    "# VCG Mechanism\n",
    "    def VCG(self,slots):\n",
    "        length = len(slots) \n",
    "        for i in range(len(slots)):\n",
    "            sum=0          \n",
    "            for j in range(i+1,len(slots)+1):\n",
    "                if j!=(len(slots)):\n",
    "                    sum+=self.bids[j].bid*(slots[j-1].CTR - slots[j].CTR)\n",
    "                else:\n",
    "                    sum+=self.bids[j].bid*(slots[j-1].CTR - 0)                  \n",
    "            slots[i].Cost=sum*(1/slots[i].CTR)\n",
    "        for i in range(0, length):\n",
    "            slots[i].Owner = self.bids[i].bidder      \n",
    "# GSP Mechansim  \n",
    "    def GSP(self,slots):\n",
    "        length = len(slots)        \n",
    "        for i in range(len(self.bids)):\n",
    "            for j in range(i+1,len(self.bids)):\n",
    "                if (self.bids[i].bid*self.bids[i].quality)<(self.bids[j].bid*self.bids[j].quality):\n",
    "                    temp=self.bids[i]\n",
    "                    self.bids[i]=self.bids[j]\n",
    "                    self.bids[j]=temp\n",
    "        for i in range(length):\n",
    "            slots[i].Cost =(self.bids[i+1].bid*self.bids[i+1].quality)/self.bids[i].quality\n",
    "        for i in range(0, length):\n",
    "            slots[i].Owner = self.bids[i].bidder\n",
    "# GSP Mechansim--NO Quality score           \n",
    "    def GSPnq(self,slots):\n",
    "        length=len(slots)      \n",
    "        for i in range(length):\n",
    "            slots[i].Cost=self.bids[i+1].bid  \n",
    "        for i in range(length):\n",
    "            slots[i].Owner = self.bids[i].bidder    \n",
    "# GFP Mechansim           \n",
    "    def GFP(self,slots):\n",
    "        length=len(slots)\n",
    "        \n",
    "        for i in range(length):\n",
    "            slots[i].Cost=self.bids[i].bid\n",
    "        \n",
    "        for i in range(length):\n",
    "            slots[i].Owner = self.bids[i].bidder"
   ]
  },
  {
   "cell_type": "code",
   "execution_count": 7,
   "metadata": {},
   "outputs": [],
   "source": [
    "def SortBid(Bid):\n",
    "    for i in range(len(Bid)):\n",
    "        for j in range(i+1,len(Bid)):\n",
    "            if Bid[i][1]<Bid[j][1]:\n",
    "                Bt=Bid[j][1]\n",
    "                At=Bid[j][0]\n",
    "                Bid[j][1]=Bid[i][1]\n",
    "                Bid[j][0]=Bid[i][0]\n",
    "                Bid[i][1]=Bt\n",
    "                Bid[i][0]=At\n",
    "    return Bid"
   ]
  },
  {
   "cell_type": "code",
   "execution_count": 8,
   "metadata": {},
   "outputs": [],
   "source": [
    "def FindQScore(BidderName,Quality):\n",
    "    for i in range(len(Quality)):\n",
    "        if Quality['BidderID'][i]==BidderName:\n",
    "            return Quality['Quality'][i]"
   ]
  },
  {
   "cell_type": "code",
   "execution_count": 9,
   "metadata": {},
   "outputs": [],
   "source": [
    "def TrueValue(Bidder,List):\n",
    "    for i in range(len(List)):\n",
    "        if List['BidderID'][i]==Bidder:\n",
    "            return List['Price'][i]"
   ]
  },
  {
   "cell_type": "code",
   "execution_count": 10,
   "metadata": {},
   "outputs": [],
   "source": [
    "def CalculateClick(position,bidder,ClickRate,pCTR):\n",
    "    for i in range(len(ClickRate)):\n",
    "        if bidder==ClickRate['Bidder'][i]:\n",
    "            CR=ClickRate['ClickRate'][i]\n",
    "            break\n",
    "    return pCTR['Impression'][position]*CR"
   ]
  },
  {
   "cell_type": "markdown",
   "metadata": {},
   "source": [
    "# Put data into Class"
   ]
  },
  {
   "cell_type": "code",
   "execution_count": 11,
   "metadata": {},
   "outputs": [],
   "source": [
    "BidO=np.empty((20,2),dtype='object')\n",
    "for i in range(20):\n",
    "    BidO[i][0]=GFPK1['Bidder'][i]\n",
    "    BidO[i][1]=GFPK1['B1'][i]\n",
    "BidO=SortBid(BidO)\n",
    "\n",
    "bidList=[]\n",
    "for i in range(20):\n",
    "    q=FindQScore(BidO[i][0],QualityScore)\n",
    "    b=Bid(BidO[i][0],BidO[i][1],q)\n",
    "    bidList.append(b)\n",
    "del BidO\n",
    "slotList=[]\n",
    "for i in range(10):\n",
    "    s=Slot(PositionCTR['ClickThroughRate'][i],PositionCTR['Impression'][i],PositionCTR['Click'][i])\n",
    "    slotList.append(s)"
   ]
  },
  {
   "cell_type": "code",
   "execution_count": 160,
   "metadata": {},
   "outputs": [],
   "source": [
    "BidO=np.empty((20,2),dtype='object')\n",
    "for i in range(20):\n",
    "    BidO[i][0]=GSPK1['BidderID'][i]\n",
    "    BidO[i][1]=GSPK1['Bid'][i]\n",
    "BidO=SortBid(BidO)\n",
    "GSPBid=[]\n",
    "for i in range(20):\n",
    "    q=FindQScore(BidO[i][0],QualityScore)\n",
    "    b=Bid(BidO[i][0],BidO[i][1],q)\n",
    "    GSPBid.append(b)\n",
    "del BidO"
   ]
  },
  {
   "cell_type": "code",
   "execution_count": 161,
   "metadata": {},
   "outputs": [],
   "source": [
    "BidO=np.empty((20,2),dtype='object')\n",
    "for i in range(20):\n",
    "    BidO[i][0]=BidData['BidderID'][i]\n",
    "    BidO[i][1]=BidData['Price'][i]\n",
    "BidO=SortBid(BidO)\n",
    "VCGBid=[]\n",
    "for i in range(20):\n",
    "    q=FindQScore(BidO[i][0],QualityScore)\n",
    "    b=Bid(BidO[i][0],BidO[i][1],q)\n",
    "    VCGBid.append(b)\n",
    "del BidO"
   ]
  },
  {
   "cell_type": "markdown",
   "metadata": {},
   "source": [
    "Slots' information"
   ]
  },
  {
   "cell_type": "code",
   "execution_count": 13,
   "metadata": {},
   "outputs": [
    {
     "name": "stdout",
     "output_type": "stream",
     "text": [
      "Slot  1:    CTR: 0.01855    impression: 47111917    Click: 874080\n",
      "Slot  2:    CTR: 0.01022    impression: 45412275    Click: 464205\n",
      "Slot  3:    CTR: 0.00727    impression: 41105765    Click: 299045\n",
      "Slot  4:    CTR: 0.00488    impression: 37681588    Click: 183735\n",
      "Slot  5:    CTR: 0.00427    impression: 32541800    Click: 139014\n",
      "Slot  6:    CTR: 0.00396    impression: 17732749    Click:  70195\n",
      "Slot  7:    CTR: 0.00322    impression: 16145931    Click:  52066\n",
      "Slot  8:    CTR: 0.00284    impression: 15237973    Click:  43231\n",
      "Slot  9:    CTR: 0.00271    impression: 13933974    Click:  37825\n",
      "Slot 10:    CTR: 0.00270    impression: 13313311    Click:  35940\n"
     ]
    }
   ],
   "source": [
    "for i,slot in enumerate(slotList):\n",
    "    print(\"Slot %2.0f:    CTR: %.5f    impression: %8.0f    Click: %6.0f\"%(i+1,slot.CTR,slot.impression,slot.click))"
   ]
  },
  {
   "cell_type": "markdown",
   "metadata": {},
   "source": [
    "Bidders' information of GFP"
   ]
  },
  {
   "cell_type": "code",
   "execution_count": 163,
   "metadata": {},
   "outputs": [
    {
     "name": "stdout",
     "output_type": "stream",
     "text": [
      "Bidder ID:ae30807c-5316-42ee-a031-589fdb08e4ba, Bid: 22440, Quality: 1.1974\n",
      "Bidder ID:52852966-92dd-43ac-8435-01b9e6021c7c, Bid: 8000, Quality: 0.0000\n",
      "Bidder ID:6524d297-40d9-4a96-90c0-0d5aa0c61da6, Bid: 3912, Quality: 2.4105\n",
      "Bidder ID:54bff083-a345-436d-99f4-3e70f8969567, Bid: 3000, Quality: 0.5769\n",
      "Bidder ID:a2860a55-f8a1-4d62-8edc-49fb88661adc, Bid: 1600, Quality: 1.5453\n",
      "Bidder ID:ebd4f3cf-2d58-41d9-a848-e3db688ba491, Bid: 1600, Quality: 1.1903\n",
      "Bidder ID:b5f02143-b63e-4062-bb82-0624909e55ac, Bid: 1200, Quality: 1.1144\n",
      "Bidder ID:9eb5a22f-1870-42b1-aaae-2faa5235ae34, Bid:  800, Quality: 4.4889\n",
      "Bidder ID:223f15fb-45b3-4a53-bdcf-c173a6e8c38a, Bid:  680, Quality: 0.0000\n",
      "Bidder ID:10fa3930-fa02-4c4a-8fd6-4bc5d831c171, Bid:  480, Quality: 0.0000\n",
      "Bidder ID:a980abdb-d307-4aa8-99f1-03e268964e0b, Bid:  480, Quality: 1.1905\n",
      "Bidder ID:bcbad0a2-c502-44ba-9e8a-16ade955ece5, Bid:  400, Quality: 0.1961\n",
      "Bidder ID:cea14acb-7635-41b6-a3fd-d05468e33042, Bid:  400, Quality: 0.0000\n",
      "Bidder ID:7484012b-fa40-438b-816a-1d778a5832a9, Bid:  312, Quality: 1.6805\n",
      "Bidder ID:4eda5623-e3cc-4fa3-afaa-e303f6fe22e1, Bid:  200, Quality: 1.5715\n",
      "Bidder ID:ffd2e9c7-e100-432d-9828-d5079c010390, Bid:  128, Quality: 3.0162\n",
      "Bidder ID:e06d4c65-a73d-42d6-b0b6-3bb7f77d87ec, Bid:  120, Quality: 0.0000\n",
      "Bidder ID:aca86453-e2cc-4039-99b2-b01dd0c16ad6, Bid:   80, Quality: 0.0000\n",
      "Bidder ID:67f72293-7ecc-4191-9d36-25a57550d5a6, Bid:   80, Quality: 0.1879\n",
      "Bidder ID:2101c67c-d344-4da9-9069-e742b250ab50, Bid:   80, Quality: 0.0000\n"
     ]
    }
   ],
   "source": [
    "for i in range(len(bidList)):\n",
    "    print(\"Bidder ID:%s, Bid: %4.0f, Quality: %.4f\"% (bidList[i].bidder,bidList[i].bid,bidList[i].quality))"
   ]
  },
  {
   "cell_type": "markdown",
   "metadata": {},
   "source": [
    "Bidders' information of GSP"
   ]
  },
  {
   "cell_type": "code",
   "execution_count": 164,
   "metadata": {},
   "outputs": [
    {
     "name": "stdout",
     "output_type": "stream",
     "text": [
      "Bidder ID:ae30807c-5316-42ee-a031-589fdb08e4ba, Bid: 28050, Quality: 1.1974\n",
      "Bidder ID:52852966-92dd-43ac-8435-01b9e6021c7c, Bid: 6025, Quality: 0.0000\n",
      "Bidder ID:6524d297-40d9-4a96-90c0-0d5aa0c61da6, Bid: 2784, Quality: 2.4105\n",
      "Bidder ID:54bff083-a345-436d-99f4-3e70f8969567, Bid: 1932, Quality: 0.5769\n",
      "Bidder ID:a2860a55-f8a1-4d62-8edc-49fb88661adc, Bid: 1037, Quality: 1.5453\n",
      "Bidder ID:ebd4f3cf-2d58-41d9-a848-e3db688ba491, Bid:  901, Quality: 1.1903\n",
      "Bidder ID:b5f02143-b63e-4062-bb82-0624909e55ac, Bid:  814, Quality: 1.1144\n",
      "Bidder ID:9eb5a22f-1870-42b1-aaae-2faa5235ae34, Bid:  658, Quality: 4.4889\n",
      "Bidder ID:223f15fb-45b3-4a53-bdcf-c173a6e8c38a, Bid:  611, Quality: 0.0000\n",
      "Bidder ID:10fa3930-fa02-4c4a-8fd6-4bc5d831c171, Bid:  600, Quality: 0.0000\n",
      "Bidder ID:a980abdb-d307-4aa8-99f1-03e268964e0b, Bid:  600, Quality: 1.1905\n",
      "Bidder ID:bcbad0a2-c502-44ba-9e8a-16ade955ece5, Bid:  500, Quality: 0.1961\n",
      "Bidder ID:cea14acb-7635-41b6-a3fd-d05468e33042, Bid:  500, Quality: 0.0000\n",
      "Bidder ID:7484012b-fa40-438b-816a-1d778a5832a9, Bid:  390, Quality: 1.6805\n",
      "Bidder ID:4eda5623-e3cc-4fa3-afaa-e303f6fe22e1, Bid:  250, Quality: 1.5715\n",
      "Bidder ID:ffd2e9c7-e100-432d-9828-d5079c010390, Bid:  160, Quality: 3.0162\n",
      "Bidder ID:e06d4c65-a73d-42d6-b0b6-3bb7f77d87ec, Bid:  150, Quality: 0.0000\n",
      "Bidder ID:aca86453-e2cc-4039-99b2-b01dd0c16ad6, Bid:  100, Quality: 0.0000\n",
      "Bidder ID:67f72293-7ecc-4191-9d36-25a57550d5a6, Bid:  100, Quality: 0.1879\n",
      "Bidder ID:2101c67c-d344-4da9-9069-e742b250ab50, Bid:  100, Quality: 0.0000\n"
     ]
    }
   ],
   "source": [
    "for i in range(len(bidList)):\n",
    "    print(\"Bidder ID:%s, Bid: %4.0f, Quality: %.4f\"% (GSPBid[i].bidder,GSPBid[i].bid,GSPBid[i].quality))"
   ]
  },
  {
   "cell_type": "markdown",
   "metadata": {},
   "source": [
    "# Start GFP Auction"
   ]
  },
  {
   "cell_type": "code",
   "execution_count": 165,
   "metadata": {},
   "outputs": [],
   "source": [
    "KeyWord=\"79021a2e2c836c1a\""
   ]
  },
  {
   "cell_type": "code",
   "execution_count": 59,
   "metadata": {},
   "outputs": [],
   "source": [
    "auctionGFP = Auction(KeyWord,bidList)"
   ]
  },
  {
   "cell_type": "code",
   "execution_count": 60,
   "metadata": {},
   "outputs": [],
   "source": [
    "auctionGFP.GFP(slotList)"
   ]
  },
  {
   "cell_type": "code",
   "execution_count": 26,
   "metadata": {},
   "outputs": [
    {
     "name": "stdout",
     "output_type": "stream",
     "text": [
      "          CTR   Cost (per click)               Bidder ID                    Expected Utility(Revenue)   Click\n",
      "\n",
      "slot  1:  0.0186     4800.00      24fffcaf-134a-4a99-9756-f9261b74ed6a           56449626               47041\n",
      "slot  2:  0.0102     3816.00      d42271d5-7367-4ffb-95a5-4d1cb2b0dc59          791621950              829792\n",
      "slot  3:  0.0073     2000.00      6f15d700-facb-45be-aaba-bbd1fb359833          282319815              564640\n",
      "slot  4:  0.0049     1000.00      8b105e0d-9c93-499f-b67f-2f2a26407871           49321450              197286\n",
      "slot  5:  0.0043      744.00      722ba2cc-8354-4029-adf5-9b901b4afb5c         3026387400            16270900\n",
      "slot  6:  0.0040      600.00      327b7d84-2646-4818-a1ee-a45a2e7d716c                  0                   0\n",
      "slot  7:  0.0032      520.00      2de3966f-0109-4c7b-b4a1-fd1dde8b3bb4           15608053              120062\n",
      "slot  8:  0.0028      432.00      409c8972-a5fa-4233-8b47-7d3d4e4ba961           11589444              107310\n",
      "slot  9:  0.0027      400.00      6bcbb8b0-002d-43b4-ae73-e270e1318efd           37296076              372961\n",
      "slot 10:  0.0027      240.00      3a100534-7b8b-4536-9e35-73b4ae6b2a59            6424985              107083\n"
     ]
    }
   ],
   "source": [
    "print(\" %12s   %8s               %8s                    %8s   Click\\n\" % (\"CTR\", \"Cost (per click)\", \"Bidder ID\",\"Expected Utility(Revenue)\"))\n",
    "for i,slot in enumerate(slotList):\n",
    "    ClickTime=CalculateClick(i,slot.Owner,ClickRate,PositionCTR)\n",
    "    print(\"slot %2.0f:  %5.4f    %8.2f      %s         %10.0f            %8.0f\" % (i+1, float(slot.CTR), float(slot.Cost), slot.Owner,ClickTime*(TrueValue(slot.Owner,BidData)-slot.Cost),ClickTime))\n",
    "ClickTime=0\n",
    "# revenue=0\n",
    "# for i in range(len(slots)):\n",
    "#     revenue+=slots[i].Cost*slots[i].CTR*100*qua[slots[i].Owner]\n",
    "# Welfare=0\n",
    "# for i in range(len(slots)):\n",
    "#     Welfare=Welfare+qua[int(slots[i].Owner)]*BIDDD[int(slots[i].Owner)]\n",
    "# print()\n",
    "# print(\"Social Welfare is: %.2f.\"%Welfare)\n",
    "# print(\"Revenue is:       %.2f.          (100 views)\"%revenue) "
   ]
  },
  {
   "cell_type": "markdown",
   "metadata": {},
   "source": [
    "# Start GSP Auction"
   ]
  },
  {
   "cell_type": "code",
   "execution_count": 166,
   "metadata": {},
   "outputs": [],
   "source": [
    "auctionGSP = Auction(KeyWord,GSPBid)"
   ]
  },
  {
   "cell_type": "code",
   "execution_count": 167,
   "metadata": {},
   "outputs": [],
   "source": [
    "auctionGSP.GSP(slotList)"
   ]
  },
  {
   "cell_type": "code",
   "execution_count": 168,
   "metadata": {},
   "outputs": [
    {
     "name": "stdout",
     "output_type": "stream",
     "text": [
      "          CTR   Cost (per click)               Bidder ID                    Expected Utility         Click\n",
      "\n",
      "slot  1:  0.0186     5605.49      ae30807c-5316-42ee-a031-589fdb08e4ba         4613887055              205569\n",
      "slot  2:  0.0102     1224.56      6524d297-40d9-4a96-90c0-0d5aa0c61da6         1542848043              420917\n",
      "slot  3:  0.0073      356.97      9eb5a22f-1870-42b1-aaae-2faa5235ae34          500613458              778518\n",
      "slot  4:  0.0049      721.05      a2860a55-f8a1-4d62-8edc-49fb88661adc          175886238              137524\n",
      "slot  5:  0.0043     1858.72      54bff083-a345-436d-99f4-3e70f8969567           95272044               50374\n",
      "slot  6:  0.0040      761.85      ebd4f3cf-2d58-41d9-a848-e3db688ba491          300222767              242476\n",
      "slot  7:  0.0032      640.97      b5f02143-b63e-4062-bb82-0624909e55ac          120150219              139868\n",
      "slot  8:  0.0028      550.51      a980abdb-d307-4aa8-99f1-03e268964e0b            4031763               81466\n",
      "slot  9:  0.0027      287.17      7484012b-fa40-438b-816a-1d778a5832a9           12568711              122228\n",
      "slot 10:  0.0027      130.25      ffd2e9c7-e100-432d-9828-d5079c010390            9104093              306053\n"
     ]
    }
   ],
   "source": [
    "SumB=0\n",
    "SumE=0\n",
    "SW=0\n",
    "SumC=0\n",
    "print(\" %12s   %8s               %8s                    %8s         Click\\n\" % (\"CTR\", \"Cost (per click)\", \"Bidder ID\",\"Expected Utility\"))\n",
    "for i,slot in enumerate(slotList):\n",
    "    ClickTime=CalculateClick(i,slot.Owner,ClickRate,PositionCTR)\n",
    "    SumB+=ClickTime*(TrueValue(slot.Owner,BidData)-slot.Cost)\n",
    "    SumE+=ClickTime*float(slot.Cost)\n",
    "    SW+=ClickTime*TrueValue(slot.Owner,BidData)\n",
    "    SumC+=ClickTime\n",
    "    print(\"slot %2.0f:  %5.4f    %8.2f      %s         %10.0f            %8.0f\" % (i+1, float(slot.CTR), float(slot.Cost), slot.Owner,ClickTime*(TrueValue(slot.Owner,BidData)-slot.Cost),ClickTime))\n",
    "# revenue=0\n",
    "# for i in range(len(slots)):\n",
    "#     revenue+=slots[i].Cost*slots[i].CTR*100*qua[slots[i].Owner]\n",
    "# Welfare=0\n",
    "# for i in range(len(slots)):\n",
    "#     Welfare=Welfare+qua[int(slots[i].Owner)]*BIDDD[int(slots[i].Owner)]\n",
    "# print()\n",
    "# print(\"Social Welfare is: %.2f.\"%Welfare)\n",
    "# print(\"Revenue is:       %.2f.          (100 views)\"%revenue) "
   ]
  },
  {
   "cell_type": "code",
   "execution_count": 169,
   "metadata": {},
   "outputs": [
    {
     "data": {
      "text/plain": [
       "7374584389.809481"
      ]
     },
     "execution_count": 169,
     "metadata": {},
     "output_type": "execute_result"
    }
   ],
   "source": [
    "SumB"
   ]
  },
  {
   "cell_type": "code",
   "execution_count": 170,
   "metadata": {},
   "outputs": [
    {
     "data": {
      "text/plain": [
       "2484992.899123713"
      ]
     },
     "execution_count": 170,
     "metadata": {},
     "output_type": "execute_result"
    }
   ],
   "source": [
    "SumC"
   ]
  },
  {
   "cell_type": "code",
   "execution_count": 171,
   "metadata": {},
   "outputs": [
    {
     "data": {
      "text/plain": [
       "2532639737.089593"
      ]
     },
     "execution_count": 171,
     "metadata": {},
     "output_type": "execute_result"
    }
   ],
   "source": [
    "SumE"
   ]
  },
  {
   "cell_type": "code",
   "execution_count": 172,
   "metadata": {},
   "outputs": [
    {
     "data": {
      "text/plain": [
       "9907224126.899073"
      ]
     },
     "execution_count": 172,
     "metadata": {},
     "output_type": "execute_result"
    }
   ],
   "source": [
    "SW"
   ]
  },
  {
   "cell_type": "markdown",
   "metadata": {},
   "source": [
    "# GSP no quality"
   ]
  },
  {
   "cell_type": "code",
   "execution_count": 173,
   "metadata": {},
   "outputs": [
    {
     "name": "stdout",
     "output_type": "stream",
     "text": [
      "          CTR   Cost (per click)               Bidder ID                    Expected Utility         Click\n",
      "\n",
      "slot  1:  0.0186     6024.65      ae30807c-5316-42ee-a031-589fdb08e4ba         4527719559              205569\n",
      "slot  2:  0.0102     2784.49      52852966-92dd-43ac-8435-01b9e6021c7c                  0                   0\n",
      "slot  3:  0.0073     1931.58      6524d297-40d9-4a96-90c0-0d5aa0c61da6         1127161931              381001\n",
      "slot  4:  0.0049     1036.95      54bff083-a345-436d-99f4-3e70f8969567          158253787               58331\n",
      "slot  5:  0.0043      900.76      a2860a55-f8a1-4d62-8edc-49fb88661adc          130552304              118766\n",
      "slot  6:  0.0040      813.74      ebd4f3cf-2d58-41d9-a848-e3db688ba491          287639819              242476\n",
      "slot  7:  0.0032      657.58      b5f02143-b63e-4062-bb82-0624909e55ac          117827495              139868\n",
      "slot  8:  0.0028      610.79      9eb5a22f-1870-42b1-aaae-2faa5235ae34          112324667              288598\n",
      "slot  9:  0.0027      600.00      223f15fb-45b3-4a53-bdcf-c173a6e8c38a                  0                   0\n",
      "slot 10:  0.0027      600.00      10fa3930-fa02-4c4a-8fd6-4bc5d831c171                  0                   0\n"
     ]
    }
   ],
   "source": [
    "auctionGSPn = Auction(KeyWord,GSPBid)\n",
    "auctionGSPn.GSPnq(slotList)\n",
    "SumB=0\n",
    "SumE=0\n",
    "SumC=0\n",
    "print(\" %12s   %8s               %8s                    %8s         Click\\n\" % (\"CTR\", \"Cost (per click)\", \"Bidder ID\",\"Expected Utility\"))\n",
    "for i,slot in enumerate(slotList):\n",
    "    ClickTime=CalculateClick(i,slot.Owner,ClickRate,PositionCTR)\n",
    "    SumB+=ClickTime*(TrueValue(slot.Owner,BidData)-slot.Cost)\n",
    "    SumE+=ClickTime*float(slot.Cost)\n",
    "    SumC+=ClickTime\n",
    "    print(\"slot %2.0f:  %5.4f    %8.2f      %s         %10.0f            %8.0f\" % (i+1, float(slot.CTR), float(slot.Cost), slot.Owner,ClickTime*(TrueValue(slot.Owner,BidData)-slot.Cost),ClickTime))"
   ]
  },
  {
   "cell_type": "code",
   "execution_count": 174,
   "metadata": {},
   "outputs": [
    {
     "data": {
      "text/plain": [
       "1434607.63952944"
      ]
     },
     "execution_count": 174,
     "metadata": {},
     "output_type": "execute_result"
    }
   ],
   "source": [
    "SumC"
   ]
  },
  {
   "cell_type": "code",
   "execution_count": 175,
   "metadata": {},
   "outputs": [
    {
     "data": {
      "text/plain": [
       "6461479561.599486"
      ]
     },
     "execution_count": 175,
     "metadata": {},
     "output_type": "execute_result"
    }
   ],
   "source": [
    "SumB"
   ]
  },
  {
   "cell_type": "code",
   "execution_count": 176,
   "metadata": {},
   "outputs": [
    {
     "data": {
      "text/plain": [
       "2607436933.649024"
      ]
     },
     "execution_count": 176,
     "metadata": {},
     "output_type": "execute_result"
    }
   ],
   "source": [
    "SumE"
   ]
  },
  {
   "cell_type": "code",
   "execution_count": 177,
   "metadata": {},
   "outputs": [
    {
     "data": {
      "text/plain": [
       "9068916495.24851"
      ]
     },
     "execution_count": 177,
     "metadata": {},
     "output_type": "execute_result"
    }
   ],
   "source": [
    "SW=SumB+SumE\n",
    "SW"
   ]
  },
  {
   "cell_type": "markdown",
   "metadata": {},
   "source": [
    "# Start VCG Auction"
   ]
  },
  {
   "cell_type": "code",
   "execution_count": 178,
   "metadata": {},
   "outputs": [],
   "source": [
    "auctionVCG = Auction(KeyWord,VCGBid)"
   ]
  },
  {
   "cell_type": "code",
   "execution_count": 179,
   "metadata": {},
   "outputs": [],
   "source": [
    "auctionVCG.VCG(slotList)"
   ]
  },
  {
   "cell_type": "code",
   "execution_count": 180,
   "metadata": {},
   "outputs": [
    {
     "name": "stdout",
     "output_type": "stream",
     "text": [
      "          CTR   Cost (per click)               Bidder ID                    Expected Utility         Click\n",
      "\n",
      "slot  1:  0.0186     6024.65      ae30807c-5316-42ee-a031-589fdb08e4ba         4527719559              205569\n",
      "slot  2:  0.0102     2784.49      52852966-92dd-43ac-8435-01b9e6021c7c                  0                   0\n",
      "slot  3:  0.0073     1931.58      6524d297-40d9-4a96-90c0-0d5aa0c61da6         1127161931              381001\n",
      "slot  4:  0.0049     1036.95      54bff083-a345-436d-99f4-3e70f8969567          158253787               58331\n",
      "slot  5:  0.0043      900.76      a2860a55-f8a1-4d62-8edc-49fb88661adc          130552304              118766\n",
      "slot  6:  0.0040      813.74      ebd4f3cf-2d58-41d9-a848-e3db688ba491          287639819              242476\n",
      "slot  7:  0.0032      657.58      b5f02143-b63e-4062-bb82-0624909e55ac          117827495              139868\n",
      "slot  8:  0.0028      610.79      9eb5a22f-1870-42b1-aaae-2faa5235ae34          112324667              288598\n",
      "slot  9:  0.0027      600.00      223f15fb-45b3-4a53-bdcf-c173a6e8c38a                  0                   0\n",
      "slot 10:  0.0027      600.00      10fa3930-fa02-4c4a-8fd6-4bc5d831c171                  0                   0\n"
     ]
    }
   ],
   "source": [
    "SumB=0\n",
    "SumE=0\n",
    "SumC=0\n",
    "print(\" %12s   %8s               %8s                    %8s         Click\\n\" % (\"CTR\", \"Cost (per click)\", \"Bidder ID\",\"Expected Utility\"))\n",
    "for i,slot in enumerate(slotList):\n",
    "    ClickTime=CalculateClick(i,slot.Owner,ClickRate,PositionCTR)\n",
    "    SumB+=ClickTime*(TrueValue(slot.Owner,BidData)-slot.Cost)\n",
    "    SumE+=ClickTime*float(slot.Cost)\n",
    "    SumC+=ClickTime\n",
    "    print(\"slot %2.0f:  %5.4f    %8.2f      %s         %10.0f            %8.0f\" % (i+1, float(slot.CTR), float(slot.Cost), slot.Owner,ClickTime*(TrueValue(slot.Owner,BidData)-slot.Cost),ClickTime))\n",
    "# revenue=0\n",
    "# for i in range(len(slots)):\n",
    "#     revenue+=slots[i].Cost*slots[i].CTR*100*qua[slots[i].Owner]\n",
    "# Welfare=0\n",
    "# for i in range(len(slots)):\n",
    "#     Welfare=Welfare+qua[int(slots[i].Owner)]*BIDDD[int(slots[i].Owner)]\n",
    "# print()\n",
    "# print(\"Social Welfare is: %.2f.\"%Welfare)\n",
    "# print(\"Revenue is:       %.2f.          (100 views)\"%revenue) "
   ]
  },
  {
   "cell_type": "code",
   "execution_count": 181,
   "metadata": {},
   "outputs": [
    {
     "data": {
      "text/plain": [
       "6461479561.599487"
      ]
     },
     "execution_count": 181,
     "metadata": {},
     "output_type": "execute_result"
    }
   ],
   "source": [
    "SumB"
   ]
  },
  {
   "cell_type": "code",
   "execution_count": 182,
   "metadata": {},
   "outputs": [
    {
     "data": {
      "text/plain": [
       "2607436933.649024"
      ]
     },
     "execution_count": 182,
     "metadata": {},
     "output_type": "execute_result"
    }
   ],
   "source": [
    "SumE"
   ]
  },
  {
   "cell_type": "code",
   "execution_count": 183,
   "metadata": {},
   "outputs": [
    {
     "data": {
      "text/plain": [
       "9068916495.248512"
      ]
     },
     "execution_count": 183,
     "metadata": {},
     "output_type": "execute_result"
    }
   ],
   "source": [
    "SW=SumB+SumE\n",
    "SW"
   ]
  },
  {
   "cell_type": "code",
   "execution_count": 184,
   "metadata": {},
   "outputs": [
    {
     "data": {
      "text/plain": [
       "1434607.63952944"
      ]
     },
     "execution_count": 184,
     "metadata": {},
     "output_type": "execute_result"
    }
   ],
   "source": [
    "SumC"
   ]
  },
  {
   "cell_type": "code",
   "execution_count": null,
   "metadata": {},
   "outputs": [],
   "source": []
  }
 ],
 "metadata": {
  "kernelspec": {
   "display_name": "Python 3",
   "language": "python",
   "name": "python3"
  },
  "language_info": {
   "codemirror_mode": {
    "name": "ipython",
    "version": 3
   },
   "file_extension": ".py",
   "mimetype": "text/x-python",
   "name": "python",
   "nbconvert_exporter": "python",
   "pygments_lexer": "ipython3",
   "version": "3.7.3"
  }
 },
 "nbformat": 4,
 "nbformat_minor": 2
}
