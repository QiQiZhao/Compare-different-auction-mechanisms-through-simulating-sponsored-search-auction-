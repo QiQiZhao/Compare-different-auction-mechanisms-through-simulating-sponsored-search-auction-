{
 "cells": [
  {
   "cell_type": "code",
   "execution_count": 1,
   "metadata": {},
   "outputs": [],
   "source": [
    "import numpy as np\n",
    "import pandas as pd\n",
    "import matplotlib.pyplot as plt\n",
    "import os\n",
    "import datetime"
   ]
  },
  {
   "cell_type": "code",
   "execution_count": 2,
   "metadata": {},
   "outputs": [],
   "source": [
    "Pdata= pd.read_csv('AuctionData.csv')"
   ]
  },
  {
   "cell_type": "code",
   "execution_count": 3,
   "metadata": {},
   "outputs": [],
   "source": [
    "PCountK=pd.read_csv(\"CountKeyword.csv\")\n",
    "PCountK.sort_values(\"Frequency\",ascending=False,inplace=True)"
   ]
  },
  {
   "cell_type": "code",
   "execution_count": 4,
   "metadata": {},
   "outputs": [],
   "source": [
    "Top10Key=pd.read_csv(\"CountKeywordSorted.csv\")"
   ]
  },
  {
   "cell_type": "code",
   "execution_count": 5,
   "metadata": {},
   "outputs": [
    {
     "name": "stderr",
     "output_type": "stream",
     "text": [
      "C:\\ProgramData\\Anaconda3\\lib\\site-packages\\IPython\\core\\interactiveshell.py:3049: DtypeWarning: Columns (5,6,7,8,9,10,11,12,13,14,15,16,17) have mixed types. Specify dtype option on import or set low_memory=False.\n",
      "  interactivity=interactivity, compiler=compiler, result=result)\n"
     ]
    }
   ],
   "source": [
    "KeywordList=pd.read_csv(\"KeyWordList.csv\")"
   ]
  },
  {
   "cell_type": "code",
   "execution_count": 6,
   "metadata": {},
   "outputs": [],
   "source": [
    "PCTR=pd.read_csv(\"CTR10.csv\")"
   ]
  },
  {
   "cell_type": "code",
   "execution_count": 7,
   "metadata": {},
   "outputs": [],
   "source": [
    "kc=np.array(PCountK)"
   ]
  },
  {
   "cell_type": "code",
   "execution_count": 8,
   "metadata": {},
   "outputs": [
    {
     "data": {
      "text/plain": [
       "array([['79021a2e2c836c1a', 5672232],\n",
       "       ['cd74a8342d25d090', 5406510],\n",
       "       ['3db691494440189b', 4853126],\n",
       "       ['aef4ee042bea9c6b', 3655225],\n",
       "       ['fc4f04e287746c48', 3588192],\n",
       "       ['de84da9dfd5a336d', 2005431],\n",
       "       ['818c76aa1c8fcfcb', 795895],\n",
       "       ['ac26bfe54a8a8f38', 684294],\n",
       "       ['977e4120f0c72865', 600119],\n",
       "       ['324ac734097de5e4', 513894]], dtype=object)"
      ]
     },
     "execution_count": 8,
     "metadata": {},
     "output_type": "execute_result"
    }
   ],
   "source": [
    "kc[0:10]"
   ]
  },
  {
   "cell_type": "code",
   "execution_count": null,
   "metadata": {},
   "outputs": [],
   "source": [
    "# np.savetxt(\"CountKeywordSorted.csv\", kc,fmt='%5s',delimiter=\",\")"
   ]
  },
  {
   "cell_type": "markdown",
   "metadata": {},
   "source": [
    "# Generate Bid Array"
   ]
  },
  {
   "cell_type": "code",
   "execution_count": 11,
   "metadata": {},
   "outputs": [],
   "source": [
    "Data=np.array(Pdata)"
   ]
  },
  {
   "cell_type": "code",
   "execution_count": 10,
   "metadata": {
    "scrolled": true
   },
   "outputs": [
    {
     "data": {
      "text/html": [
       "<div>\n",
       "<style scoped>\n",
       "    .dataframe tbody tr th:only-of-type {\n",
       "        vertical-align: middle;\n",
       "    }\n",
       "\n",
       "    .dataframe tbody tr th {\n",
       "        vertical-align: top;\n",
       "    }\n",
       "\n",
       "    .dataframe thead th {\n",
       "        text-align: right;\n",
       "    }\n",
       "</style>\n",
       "<table border=\"1\" class=\"dataframe\">\n",
       "  <thead>\n",
       "    <tr style=\"text-align: right;\">\n",
       "      <th></th>\n",
       "      <th>KeywordID</th>\n",
       "      <th>Frequency</th>\n",
       "    </tr>\n",
       "  </thead>\n",
       "  <tbody>\n",
       "    <tr>\n",
       "      <th>0</th>\n",
       "      <td>79021a2e2c836c1a</td>\n",
       "      <td>5672232</td>\n",
       "    </tr>\n",
       "    <tr>\n",
       "      <th>1</th>\n",
       "      <td>cd74a8342d25d090</td>\n",
       "      <td>5406510</td>\n",
       "    </tr>\n",
       "    <tr>\n",
       "      <th>2</th>\n",
       "      <td>3db691494440189b</td>\n",
       "      <td>4853126</td>\n",
       "    </tr>\n",
       "    <tr>\n",
       "      <th>3</th>\n",
       "      <td>aef4ee042bea9c6b</td>\n",
       "      <td>3655225</td>\n",
       "    </tr>\n",
       "    <tr>\n",
       "      <th>4</th>\n",
       "      <td>fc4f04e287746c48</td>\n",
       "      <td>3588192</td>\n",
       "    </tr>\n",
       "    <tr>\n",
       "      <th>5</th>\n",
       "      <td>de84da9dfd5a336d</td>\n",
       "      <td>2005431</td>\n",
       "    </tr>\n",
       "    <tr>\n",
       "      <th>6</th>\n",
       "      <td>818c76aa1c8fcfcb</td>\n",
       "      <td>795895</td>\n",
       "    </tr>\n",
       "    <tr>\n",
       "      <th>7</th>\n",
       "      <td>ac26bfe54a8a8f38</td>\n",
       "      <td>684294</td>\n",
       "    </tr>\n",
       "    <tr>\n",
       "      <th>8</th>\n",
       "      <td>977e4120f0c72865</td>\n",
       "      <td>600119</td>\n",
       "    </tr>\n",
       "    <tr>\n",
       "      <th>9</th>\n",
       "      <td>324ac734097de5e4</td>\n",
       "      <td>513894</td>\n",
       "    </tr>\n",
       "  </tbody>\n",
       "</table>\n",
       "</div>"
      ],
      "text/plain": [
       "          KeywordID  Frequency\n",
       "0  79021a2e2c836c1a    5672232\n",
       "1  cd74a8342d25d090    5406510\n",
       "2  3db691494440189b    4853126\n",
       "3  aef4ee042bea9c6b    3655225\n",
       "4  fc4f04e287746c48    3588192\n",
       "5  de84da9dfd5a336d    2005431\n",
       "6  818c76aa1c8fcfcb     795895\n",
       "7  ac26bfe54a8a8f38     684294\n",
       "8  977e4120f0c72865     600119\n",
       "9  324ac734097de5e4     513894"
      ]
     },
     "execution_count": 10,
     "metadata": {},
     "output_type": "execute_result"
    }
   ],
   "source": [
    "Top10Key[0:10]"
   ]
  },
  {
   "cell_type": "code",
   "execution_count": 97,
   "metadata": {},
   "outputs": [
    {
     "data": {
      "text/plain": [
       "496482"
      ]
     },
     "execution_count": 97,
     "metadata": {},
     "output_type": "execute_result"
    }
   ],
   "source": [
    "K1_1=KeywordList[KeywordList['K4']==' fc4f04e287746c48'].index.tolist()\n",
    "# K1_1=KeywordList[KeywordList['K1']=='79021a2e2c836c1a'].index.tolist()\n",
    "len(K1_1)"
   ]
  },
  {
   "cell_type": "code",
   "execution_count": 98,
   "metadata": {},
   "outputs": [],
   "source": [
    "sign=0\n",
    "K1BidList=[]\n",
    "for i in range(10000):\n",
    "    for j in range(len(K1BidList)):\n",
    "        if Data[K1_1[i]][1]==K1BidList[j][1]:\n",
    "            sign=1\n",
    "            break\n",
    "    if sign==1:\n",
    "        sign=0\n",
    "    else:\n",
    "        K1BidList.append(Data[K1_1[i]])"
   ]
  },
  {
   "cell_type": "code",
   "execution_count": 99,
   "metadata": {},
   "outputs": [],
   "source": [
    "BidArray=np.array(K1BidList[0:20])"
   ]
  },
  {
   "cell_type": "code",
   "execution_count": 100,
   "metadata": {},
   "outputs": [],
   "source": [
    "BidArray2=BidArray[:,[1,3]]"
   ]
  },
  {
   "cell_type": "code",
   "execution_count": 101,
   "metadata": {},
   "outputs": [],
   "source": [
    "lengthA=len(BidArray2)\n",
    "for i in range(lengthA):\n",
    "    for j in range(i+1,lengthA):\n",
    "        if BidArray2[i][1]<BidArray2[j][1]:\n",
    "            TempN=BidArray2[j][0]\n",
    "            TempB=BidArray2[j][1]\n",
    "            BidArray2[j][0]=BidArray2[i][0]\n",
    "            BidArray2[j][1]=BidArray2[i][1]\n",
    "            BidArray2[i][0]=TempN\n",
    "            BidArray2[i][1]=TempB"
   ]
  },
  {
   "cell_type": "code",
   "execution_count": 102,
   "metadata": {},
   "outputs": [
    {
     "data": {
      "text/plain": [
       "array([['ae30807c-5316-42ee-a031-589fdb08e4ba', 28050.0],\n",
       "       ['52852966-92dd-43ac-8435-01b9e6021c7c', 10000.0],\n",
       "       ['6524d297-40d9-4a96-90c0-0d5aa0c61da6', 4890.0],\n",
       "       ['54bff083-a345-436d-99f4-3e70f8969567', 3750.0],\n",
       "       ['a2860a55-f8a1-4d62-8edc-49fb88661adc', 2000.0],\n",
       "       ['ebd4f3cf-2d58-41d9-a848-e3db688ba491', 2000.0],\n",
       "       ['b5f02143-b63e-4062-bb82-0624909e55ac', 1500.0],\n",
       "       ['9eb5a22f-1870-42b1-aaae-2faa5235ae34', 1000.0],\n",
       "       ['223f15fb-45b3-4a53-bdcf-c173a6e8c38a', 850.0],\n",
       "       ['10fa3930-fa02-4c4a-8fd6-4bc5d831c171', 600.0],\n",
       "       ['a980abdb-d307-4aa8-99f1-03e268964e0b', 600.0],\n",
       "       ['bcbad0a2-c502-44ba-9e8a-16ade955ece5', 500.0],\n",
       "       ['cea14acb-7635-41b6-a3fd-d05468e33042', 500.0],\n",
       "       ['7484012b-fa40-438b-816a-1d778a5832a9', 390.0],\n",
       "       ['4eda5623-e3cc-4fa3-afaa-e303f6fe22e1', 250.0],\n",
       "       ['ffd2e9c7-e100-432d-9828-d5079c010390', 160.0],\n",
       "       ['e06d4c65-a73d-42d6-b0b6-3bb7f77d87ec', 150.0],\n",
       "       ['aca86453-e2cc-4039-99b2-b01dd0c16ad6', 100.0],\n",
       "       ['67f72293-7ecc-4191-9d36-25a57550d5a6', 100.0],\n",
       "       ['2101c67c-d344-4da9-9069-e742b250ab50', 100.0]], dtype=object)"
      ]
     },
     "execution_count": 102,
     "metadata": {},
     "output_type": "execute_result"
    }
   ],
   "source": [
    "BidArray2"
   ]
  },
  {
   "cell_type": "code",
   "execution_count": 103,
   "metadata": {},
   "outputs": [],
   "source": [
    "np.savetxt(\"Keyword6\\BidArray.csv\", BidArray2,fmt='%5s',delimiter=\",\")\n",
    "# np.savetxt(\"Keyword4\\BidArray.csv\", BidArray,fmt='%5s',delimiter=\",\")\n",
    "# np.savetxt(\"Keyword3\\BidArray.csv\", BidArray,fmt='%5s',delimiter=\",\")\n",
    "# np.savetxt(\"Keyword2\\BidArray.csv\", BidArray,fmt='%5s',delimiter=\",\")"
   ]
  },
  {
   "cell_type": "markdown",
   "metadata": {},
   "source": [
    "# Calculate Quality"
   ]
  },
  {
   "cell_type": "code",
   "execution_count": 54,
   "metadata": {},
   "outputs": [],
   "source": [
    "CalQuality=np.zeros((20,10))"
   ]
  },
  {
   "cell_type": "code",
   "execution_count": 55,
   "metadata": {},
   "outputs": [],
   "source": [
    "PdataSlot1=Pdata[Pdata['Position']==1]"
   ]
  },
  {
   "cell_type": "code",
   "execution_count": 56,
   "metadata": {},
   "outputs": [],
   "source": [
    "PdataSlot2=Pdata[Pdata['Position']==2]\n",
    "PdataSlot3=Pdata[Pdata['Position']==3]\n",
    "PdataSlot4=Pdata[Pdata['Position']==4]\n",
    "PdataSlot5=Pdata[Pdata['Position']==5]\n",
    "PdataSlot6=Pdata[Pdata['Position']==6]\n",
    "PdataSlot7=Pdata[Pdata['Position']==7]\n",
    "PdataSlot8=Pdata[Pdata['Position']==8]\n",
    "PdataSlot9=Pdata[Pdata['Position']==9]\n",
    "PdataSlot10=Pdata[Pdata['Position']==10]"
   ]
  },
  {
   "cell_type": "code",
   "execution_count": 57,
   "metadata": {},
   "outputs": [],
   "source": [
    "for i in range(20):\n",
    "    dataImpression=np.array(PdataSlot1.loc[PdataSlot1['Bidder']==BidArray[i][1],'Impression'])\n",
    "    dataClick=np.array(PdataSlot1.loc[PdataSlot1['Bidder']==BidArray[i][1],'Click'])\n",
    "    ImpSum=0\n",
    "    CliSum=0\n",
    "    for j in range(len(dataImpression)):\n",
    "        ImpSum+=dataImpression[j]\n",
    "        CliSum+=dataClick[j]\n",
    "    if ImpSum!=0:\n",
    "        CTRpb=CliSum/ImpSum\n",
    "        CalQuality[i][0]=CTRpb"
   ]
  },
  {
   "cell_type": "code",
   "execution_count": 58,
   "metadata": {},
   "outputs": [],
   "source": [
    "for i in range(20):\n",
    "    dataImpression=np.array(PdataSlot2.loc[PdataSlot2['Bidder']==BidArray[i][1],'Impression'])\n",
    "    dataClick=np.array(PdataSlot2.loc[PdataSlot2['Bidder']==BidArray[i][1],'Click'])\n",
    "    ImpSum=0\n",
    "    CliSum=0\n",
    "    for j in range(len(dataImpression)):\n",
    "        ImpSum+=dataImpression[j]\n",
    "        CliSum+=dataClick[j]\n",
    "    if ImpSum!=0:\n",
    "        CTRpb=CliSum/ImpSum\n",
    "        CalQuality[i][1]=CTRpb"
   ]
  },
  {
   "cell_type": "code",
   "execution_count": 59,
   "metadata": {},
   "outputs": [],
   "source": [
    "for i in range(20):\n",
    "    dataImpression=np.array(PdataSlot3.loc[PdataSlot3['Bidder']==BidArray[i][1],'Impression'])\n",
    "    dataClick=np.array(PdataSlot3.loc[PdataSlot3['Bidder']==BidArray[i][1],'Click'])\n",
    "    ImpSum=0\n",
    "    CliSum=0\n",
    "    for j in range(len(dataImpression)):\n",
    "        ImpSum+=dataImpression[j]\n",
    "        CliSum+=dataClick[j]\n",
    "    if ImpSum!=0:\n",
    "        CTRpb=CliSum/ImpSum\n",
    "        CalQuality[i][2]=CTRpb"
   ]
  },
  {
   "cell_type": "code",
   "execution_count": 60,
   "metadata": {},
   "outputs": [],
   "source": [
    "for i in range(20):\n",
    "    dataImpression=np.array(PdataSlot4.loc[PdataSlot4['Bidder']==BidArray[i][1],'Impression'])\n",
    "    dataClick=np.array(PdataSlot4.loc[PdataSlot4['Bidder']==BidArray[i][1],'Click'])\n",
    "    ImpSum=0\n",
    "    CliSum=0\n",
    "    for j in range(len(dataImpression)):\n",
    "        ImpSum+=dataImpression[j]\n",
    "        CliSum+=dataClick[j]\n",
    "    if ImpSum!=0:\n",
    "        CTRpb=CliSum/ImpSum\n",
    "        CalQuality[i][3]=CTRpb"
   ]
  },
  {
   "cell_type": "code",
   "execution_count": 61,
   "metadata": {},
   "outputs": [],
   "source": [
    "for i in range(20):\n",
    "    dataImpression=np.array(PdataSlot5.loc[PdataSlot5['Bidder']==BidArray[i][1],'Impression'])\n",
    "    dataClick=np.array(PdataSlot5.loc[PdataSlot5['Bidder']==BidArray[i][1],'Click'])\n",
    "    ImpSum=0\n",
    "    CliSum=0\n",
    "    for j in range(len(dataImpression)):\n",
    "        ImpSum+=dataImpression[j]\n",
    "        CliSum+=dataClick[j]\n",
    "    if ImpSum!=0:\n",
    "        CTRpb=CliSum/ImpSum\n",
    "        CalQuality[i][4]=CTRpb"
   ]
  },
  {
   "cell_type": "code",
   "execution_count": 62,
   "metadata": {},
   "outputs": [],
   "source": [
    "for i in range(20):\n",
    "    dataImpression=np.array(PdataSlot6.loc[PdataSlot6['Bidder']==BidArray[i][1],'Impression'])\n",
    "    dataClick=np.array(PdataSlot6.loc[PdataSlot6['Bidder']==BidArray[i][1],'Click'])\n",
    "    ImpSum=0\n",
    "    CliSum=0\n",
    "    for j in range(len(dataImpression)):\n",
    "        ImpSum+=dataImpression[j]\n",
    "        CliSum+=dataClick[j]\n",
    "    if ImpSum!=0:\n",
    "        CTRpb=CliSum/ImpSum\n",
    "        CalQuality[i][5]=CTRpb"
   ]
  },
  {
   "cell_type": "code",
   "execution_count": 63,
   "metadata": {},
   "outputs": [],
   "source": [
    "for i in range(20):\n",
    "    dataImpression=np.array(PdataSlot7.loc[PdataSlot7['Bidder']==BidArray[i][1],'Impression'])\n",
    "    dataClick=np.array(PdataSlot7.loc[PdataSlot7['Bidder']==BidArray[i][1],'Click'])\n",
    "    ImpSum=0\n",
    "    CliSum=0\n",
    "    for j in range(len(dataImpression)):\n",
    "        ImpSum+=dataImpression[j]\n",
    "        CliSum+=dataClick[j]\n",
    "    if ImpSum!=0:\n",
    "        CTRpb=CliSum/ImpSum\n",
    "        CalQuality[i][6]=CTRpb"
   ]
  },
  {
   "cell_type": "code",
   "execution_count": 64,
   "metadata": {},
   "outputs": [],
   "source": [
    "for i in range(20):\n",
    "    dataImpression=np.array(PdataSlot8.loc[PdataSlot8['Bidder']==BidArray[i][1],'Impression'])\n",
    "    dataClick=np.array(PdataSlot8.loc[PdataSlot8['Bidder']==BidArray[i][1],'Click'])\n",
    "    ImpSum=0\n",
    "    CliSum=0\n",
    "    for j in range(len(dataImpression)):\n",
    "        ImpSum+=dataImpression[j]\n",
    "        CliSum+=dataClick[j]\n",
    "    if ImpSum!=0:\n",
    "        CTRpb=CliSum/ImpSum\n",
    "        CalQuality[i][7]=CTRpb"
   ]
  },
  {
   "cell_type": "code",
   "execution_count": 65,
   "metadata": {},
   "outputs": [],
   "source": [
    "for i in range(20):\n",
    "    dataImpression=np.array(PdataSlot9.loc[PdataSlot9['Bidder']==BidArray[i][1],'Impression'])\n",
    "    dataClick=np.array(PdataSlot9.loc[PdataSlot9['Bidder']==BidArray[i][1],'Click'])\n",
    "    ImpSum=0\n",
    "    CliSum=0\n",
    "    for j in range(len(dataImpression)):\n",
    "        ImpSum+=dataImpression[j]\n",
    "        CliSum+=dataClick[j]\n",
    "    if ImpSum!=0:\n",
    "        CTRpb=CliSum/ImpSum\n",
    "        CalQuality[i][8]=CTRpb"
   ]
  },
  {
   "cell_type": "code",
   "execution_count": 66,
   "metadata": {},
   "outputs": [],
   "source": [
    "for i in range(20):\n",
    "    dataImpression=np.array(PdataSlot10.loc[PdataSlot10['Bidder']==BidArray[i][1],'Impression'])\n",
    "    dataClick=np.array(PdataSlot10.loc[PdataSlot10['Bidder']==BidArray[i][1],'Click'])\n",
    "    ImpSum=0\n",
    "    CliSum=0\n",
    "    for j in range(len(dataImpression)):\n",
    "        ImpSum+=dataImpression[j]\n",
    "        CliSum+=dataClick[j]\n",
    "    if ImpSum!=0:\n",
    "        CTRpb=CliSum/ImpSum\n",
    "        CalQuality[i][9]=CTRpb"
   ]
  },
  {
   "cell_type": "code",
   "execution_count": 67,
   "metadata": {},
   "outputs": [],
   "source": [
    "QualityScore=np.zeros(20)"
   ]
  },
  {
   "cell_type": "code",
   "execution_count": 68,
   "metadata": {},
   "outputs": [],
   "source": [
    "for i in range(20):\n",
    "    QuaSum=0\n",
    "    for j in range(10):\n",
    "        QuaSum+=CalQuality[i][j]/PCTR['ClickThroughRate'][j]\n",
    "    QualityScore[i]=QuaSum/10"
   ]
  },
  {
   "cell_type": "code",
   "execution_count": 69,
   "metadata": {},
   "outputs": [],
   "source": [
    "dataImpression=np.array(PdataSlot1.loc[PdataSlot1['Bidder']==BidArray[2][1],'Impression'])"
   ]
  },
  {
   "cell_type": "code",
   "execution_count": 70,
   "metadata": {},
   "outputs": [],
   "source": [
    "QualityAndName=np.empty((20,2),dtype='object')"
   ]
  },
  {
   "cell_type": "code",
   "execution_count": 71,
   "metadata": {},
   "outputs": [],
   "source": [
    "for i in range(20):\n",
    "    QualityAndName[i][0]=BidArray[i][1]\n",
    "    QualityAndName[i][1]=QualityScore[i]"
   ]
  },
  {
   "cell_type": "code",
   "execution_count": 72,
   "metadata": {},
   "outputs": [
    {
     "data": {
      "text/plain": [
       "array([['08bade48-1081-488f-b459-6c75d75312ae', 0.0],\n",
       "       ['10fa3930-fa02-4c4a-8fd6-4bc5d831c171', 0.0],\n",
       "       ['c536f9aa-9f3a-43e1-832e-9434911aa3b3', 0.0],\n",
       "       ['be7bdddc-ee64-482b-afea-46216544807d', 0.0],\n",
       "       ['86052521-4456-4808-b03d-7a892c0f17f2', 0.19057769617721335],\n",
       "       ['515e52cb-5a62-415e-9f08-9e2fa92f7061', 0.3759328100957465],\n",
       "       ['6b711568-4cfa-43fd-850a-866107f99b1c', 0.0],\n",
       "       ['28f05d7e-5c30-4b27-9f81-d88d20d08ac6', 0.489149420188181],\n",
       "       ['18527f56-499f-416b-bef4-c2e20f654223', 0.6321042613771866],\n",
       "       ['30284a72-15db-4f39-8699-5e6394d9eb6e', 0.9996956382121244],\n",
       "       ['2e405ca2-8810-4448-b682-5d186ab24391', 0.559528704926169],\n",
       "       ['c3ad7094-88ae-4a82-a9e1-00bf7acf29e2', 0.0],\n",
       "       ['20d08fc0-b213-4d18-ba9a-6ce7ec9df829', 0.3634450671947299],\n",
       "       ['d8aabf51-f6c5-4d8b-9565-89e61f103813', 1.9525869115728711],\n",
       "       ['90546bf0-1794-4282-a2b1-81dca290800b', 0.3927414936660873],\n",
       "       ['44b9f088-7d6e-48c9-91a9-ab0fca5cdeeb', 0.7824060269076426],\n",
       "       ['fa7f5e1c-3016-450a-a778-6aaca9ba1d4a', 1.3016951029644184],\n",
       "       ['a2c5e255-fec2-4722-b45b-dd2455198d86', 0.0],\n",
       "       ['f583da53-bff4-436e-8e87-487f8122beee', 1.3770005390908575],\n",
       "       ['3a100534-7b8b-4536-9e35-73b4ae6b2a59', 1.3615378079274412]],\n",
       "      dtype=object)"
      ]
     },
     "execution_count": 72,
     "metadata": {},
     "output_type": "execute_result"
    }
   ],
   "source": [
    "QualityAndName"
   ]
  },
  {
   "cell_type": "code",
   "execution_count": 48,
   "metadata": {},
   "outputs": [],
   "source": [
    "np.savetxt(\"Keyword2\\QualityScore.csv\", QualityAndName ,fmt='%5s',delimiter=\",\")\n",
    "# np.savetxt(\"Keyword4\\QualityScore.csv\", QualityAndName ,fmt='%5s',delimiter=\",\")\n",
    "# np.savetxt(\"Keyword3\\QualityScore.csv\", QualityAndName ,fmt='%5s',delimiter=\",\")\n",
    "# np.savetxt(\"Keyword2\\QualityScore.csv\", QualityAndName ,fmt='%5s',delimiter=\",\")"
   ]
  },
  {
   "cell_type": "markdown",
   "metadata": {},
   "source": [
    "# Calculate Click Rate"
   ]
  },
  {
   "cell_type": "code",
   "execution_count": 73,
   "metadata": {},
   "outputs": [],
   "source": [
    "Clickrate=np.empty((20,2),dtype='object')"
   ]
  },
  {
   "cell_type": "code",
   "execution_count": 74,
   "metadata": {},
   "outputs": [],
   "source": [
    "for i in range(20):\n",
    "    Clickrate[i][0]=BidArray[i][1]\n",
    "    ImpreSum=0\n",
    "    ClickSum=0\n",
    "    BidderImpression=np.array(Pdata.loc[Pdata['Bidder']==Clickrate[i][0],'Impression'])\n",
    "    BidderClick=np.array(Pdata.loc[Pdata['Bidder']==Clickrate[i][0],'Click'])\n",
    "    for j in range(len(BidderImpression)):\n",
    "        ImpreSum+=BidderImpression[j]\n",
    "        ClickSum+=BidderClick[j]\n",
    "    Clickrate[i][1]=ClickSum/ImpreSum"
   ]
  },
  {
   "cell_type": "code",
   "execution_count": 75,
   "metadata": {},
   "outputs": [
    {
     "data": {
      "text/plain": [
       "array([['08bade48-1081-488f-b459-6c75d75312ae', 0.0],\n",
       "       ['10fa3930-fa02-4c4a-8fd6-4bc5d831c171', 0.0],\n",
       "       ['c536f9aa-9f3a-43e1-832e-9434911aa3b3', 0.0],\n",
       "       ['be7bdddc-ee64-482b-afea-46216544807d', 0.0],\n",
       "       ['86052521-4456-4808-b03d-7a892c0f17f2', 0.002871500358937545],\n",
       "       ['515e52cb-5a62-415e-9f08-9e2fa92f7061', 0.0016741071428571428],\n",
       "       ['6b711568-4cfa-43fd-850a-866107f99b1c', 0.0],\n",
       "       ['28f05d7e-5c30-4b27-9f81-d88d20d08ac6', 0.009900990099009901],\n",
       "       ['18527f56-499f-416b-bef4-c2e20f654223', 0.004123711340206186],\n",
       "       ['30284a72-15db-4f39-8699-5e6394d9eb6e', 0.0044013427825438265],\n",
       "       ['2e405ca2-8810-4448-b682-5d186ab24391', 0.016725009723842863],\n",
       "       ['c3ad7094-88ae-4a82-a9e1-00bf7acf29e2', 0.0],\n",
       "       ['20d08fc0-b213-4d18-ba9a-6ce7ec9df829', 0.001514386673397274],\n",
       "       ['d8aabf51-f6c5-4d8b-9565-89e61f103813', 0.04878048780487805],\n",
       "       ['90546bf0-1794-4282-a2b1-81dca290800b', 0.012048192771084338],\n",
       "       ['44b9f088-7d6e-48c9-91a9-ab0fca5cdeeb', 0.06505295007564296],\n",
       "       ['fa7f5e1c-3016-450a-a778-6aaca9ba1d4a', 0.0763888888888889],\n",
       "       ['a2c5e255-fec2-4722-b45b-dd2455198d86', 0.0],\n",
       "       ['f583da53-bff4-436e-8e87-487f8122beee', 0.008333333333333333],\n",
       "       ['3a100534-7b8b-4536-9e35-73b4ae6b2a59', 0.008043310131477185]],\n",
       "      dtype=object)"
      ]
     },
     "execution_count": 75,
     "metadata": {},
     "output_type": "execute_result"
    }
   ],
   "source": [
    "Clickrate"
   ]
  },
  {
   "cell_type": "code",
   "execution_count": null,
   "metadata": {},
   "outputs": [],
   "source": [
    "np.savetxt(\"Keyword2\\Clickrate.csv\", Clickrate ,fmt='%5s',delimiter=\",\")\n",
    "# np.savetxt(\"Keyword4\\Clickrate.csv\", Clickrate ,fmt='%5s',delimiter=\",\")\n",
    "# np.savetxt(\"Keyword3\\Clickrate.csv\", Clickrate ,fmt='%5s',delimiter=\",\")\n",
    "# np.savetxt(\"Keyword2\\Clickrate.csv\", Clickrate ,fmt='%5s',delimiter=\",\")"
   ]
  },
  {
   "cell_type": "code",
   "execution_count": 17,
   "metadata": {},
   "outputs": [
    {
     "data": {
      "text/plain": [
       "11864"
      ]
     },
     "execution_count": 17,
     "metadata": {},
     "output_type": "execute_result"
    }
   ],
   "source": [
    "len(Pdata['Bidder'].value_counts())"
   ]
  },
  {
   "cell_type": "code",
   "execution_count": 4,
   "metadata": {},
   "outputs": [],
   "source": [
    "BidderID=np.array(Pdata['Bidder'].unique())"
   ]
  },
  {
   "cell_type": "code",
   "execution_count": 8,
   "metadata": {},
   "outputs": [
    {
     "data": {
      "text/plain": [
       "11864"
      ]
     },
     "execution_count": 8,
     "metadata": {},
     "output_type": "execute_result"
    }
   ],
   "source": [
    "len(BidderID)"
   ]
  },
  {
   "cell_type": "code",
   "execution_count": 9,
   "metadata": {},
   "outputs": [],
   "source": [
    "AdPosition=np.array(Pdata['Position'].unique())"
   ]
  },
  {
   "cell_type": "code",
   "execution_count": 10,
   "metadata": {},
   "outputs": [
    {
     "data": {
      "text/plain": [
       "104"
      ]
     },
     "execution_count": 10,
     "metadata": {},
     "output_type": "execute_result"
    }
   ],
   "source": [
    "len(AdPosition)"
   ]
  },
  {
   "cell_type": "code",
   "execution_count": 55,
   "metadata": {},
   "outputs": [],
   "source": [
    "CTR=np.zeros((10,3))"
   ]
  },
  {
   "cell_type": "code",
   "execution_count": 56,
   "metadata": {},
   "outputs": [
    {
     "data": {
      "text/plain": [
       "(10, 3)"
      ]
     },
     "execution_count": 56,
     "metadata": {},
     "output_type": "execute_result"
    }
   ],
   "source": [
    "CTR.shape"
   ]
  },
  {
   "cell_type": "code",
   "execution_count": 60,
   "metadata": {},
   "outputs": [],
   "source": [
    "for i in range(len(Mdata)):\n",
    "        CTR[Mdata[i][2]-1][0]+=Mdata[i][4]\n",
    "        CTR[Mdata[i][2]-1][1]+=Mdata[i][5]"
   ]
  },
  {
   "cell_type": "code",
   "execution_count": 137,
   "metadata": {},
   "outputs": [],
   "source": [
    "Mdata=np.array(Pdata[Pdata['Position']<=10])"
   ]
  },
  {
   "cell_type": "code",
   "execution_count": 43,
   "metadata": {},
   "outputs": [
    {
     "data": {
      "text/html": [
       "<div>\n",
       "<style scoped>\n",
       "    .dataframe tbody tr th:only-of-type {\n",
       "        vertical-align: middle;\n",
       "    }\n",
       "\n",
       "    .dataframe tbody tr th {\n",
       "        vertical-align: top;\n",
       "    }\n",
       "\n",
       "    .dataframe thead th {\n",
       "        text-align: right;\n",
       "    }\n",
       "</style>\n",
       "<table border=\"1\" class=\"dataframe\">\n",
       "  <thead>\n",
       "    <tr style=\"text-align: right;\">\n",
       "      <th></th>\n",
       "      <th>Day</th>\n",
       "      <th>Bidder</th>\n",
       "      <th>Position</th>\n",
       "      <th>Price</th>\n",
       "      <th>Impression</th>\n",
       "      <th>Click</th>\n",
       "    </tr>\n",
       "  </thead>\n",
       "  <tbody>\n",
       "    <tr>\n",
       "      <th>0</th>\n",
       "      <td>1</td>\n",
       "      <td>08bade48-1081-488f-b459-6c75d75312ae</td>\n",
       "      <td>2</td>\n",
       "      <td>100.000000</td>\n",
       "      <td>2.0</td>\n",
       "      <td>0.0</td>\n",
       "    </tr>\n",
       "    <tr>\n",
       "      <th>1</th>\n",
       "      <td>29</td>\n",
       "      <td>08bade48-1081-488f-b459-6c75d75312ae</td>\n",
       "      <td>3</td>\n",
       "      <td>100.000000</td>\n",
       "      <td>1.0</td>\n",
       "      <td>0.0</td>\n",
       "    </tr>\n",
       "    <tr>\n",
       "      <th>2</th>\n",
       "      <td>29</td>\n",
       "      <td>08bade48-1081-488f-b459-6c75d75312ae</td>\n",
       "      <td>2</td>\n",
       "      <td>100.000000</td>\n",
       "      <td>1.0</td>\n",
       "      <td>0.0</td>\n",
       "    </tr>\n",
       "    <tr>\n",
       "      <th>3</th>\n",
       "      <td>11</td>\n",
       "      <td>08bade48-1081-488f-b459-6c75d75312ae</td>\n",
       "      <td>1</td>\n",
       "      <td>100.000000</td>\n",
       "      <td>2.0</td>\n",
       "      <td>0.0</td>\n",
       "    </tr>\n",
       "    <tr>\n",
       "      <th>4</th>\n",
       "      <td>17</td>\n",
       "      <td>08bade48-1081-488f-b459-6c75d75312ae</td>\n",
       "      <td>2</td>\n",
       "      <td>100.000000</td>\n",
       "      <td>1.0</td>\n",
       "      <td>0.0</td>\n",
       "    </tr>\n",
       "    <tr>\n",
       "      <th>5</th>\n",
       "      <td>2</td>\n",
       "      <td>08bade48-1081-488f-b459-6c75d75312ae</td>\n",
       "      <td>9</td>\n",
       "      <td>100.000000</td>\n",
       "      <td>1.0</td>\n",
       "      <td>0.0</td>\n",
       "    </tr>\n",
       "    <tr>\n",
       "      <th>6</th>\n",
       "      <td>28</td>\n",
       "      <td>08bade48-1081-488f-b459-6c75d75312ae</td>\n",
       "      <td>4</td>\n",
       "      <td>100.000000</td>\n",
       "      <td>1.0</td>\n",
       "      <td>0.0</td>\n",
       "    </tr>\n",
       "    <tr>\n",
       "      <th>7</th>\n",
       "      <td>28</td>\n",
       "      <td>08bade48-1081-488f-b459-6c75d75312ae</td>\n",
       "      <td>3</td>\n",
       "      <td>100.000000</td>\n",
       "      <td>1.0</td>\n",
       "      <td>0.0</td>\n",
       "    </tr>\n",
       "    <tr>\n",
       "      <th>8</th>\n",
       "      <td>11</td>\n",
       "      <td>08bade48-1081-488f-b459-6c75d75312ae</td>\n",
       "      <td>2</td>\n",
       "      <td>100.000000</td>\n",
       "      <td>1.0</td>\n",
       "      <td>0.0</td>\n",
       "    </tr>\n",
       "    <tr>\n",
       "      <th>9</th>\n",
       "      <td>18</td>\n",
       "      <td>08bade48-1081-488f-b459-6c75d75312ae</td>\n",
       "      <td>4</td>\n",
       "      <td>100.000000</td>\n",
       "      <td>2.0</td>\n",
       "      <td>0.0</td>\n",
       "    </tr>\n",
       "    <tr>\n",
       "      <th>10</th>\n",
       "      <td>22</td>\n",
       "      <td>08bade48-1081-488f-b459-6c75d75312ae</td>\n",
       "      <td>4</td>\n",
       "      <td>100.000000</td>\n",
       "      <td>1.0</td>\n",
       "      <td>0.0</td>\n",
       "    </tr>\n",
       "    <tr>\n",
       "      <th>11</th>\n",
       "      <td>23</td>\n",
       "      <td>08bade48-1081-488f-b459-6c75d75312ae</td>\n",
       "      <td>10</td>\n",
       "      <td>100.000000</td>\n",
       "      <td>2.0</td>\n",
       "      <td>0.0</td>\n",
       "    </tr>\n",
       "    <tr>\n",
       "      <th>12</th>\n",
       "      <td>2</td>\n",
       "      <td>08bade48-1081-488f-b459-6c75d75312ae</td>\n",
       "      <td>3</td>\n",
       "      <td>100.000000</td>\n",
       "      <td>1.0</td>\n",
       "      <td>0.0</td>\n",
       "    </tr>\n",
       "    <tr>\n",
       "      <th>13</th>\n",
       "      <td>3</td>\n",
       "      <td>08bade48-1081-488f-b459-6c75d75312ae</td>\n",
       "      <td>1</td>\n",
       "      <td>100.000000</td>\n",
       "      <td>2.0</td>\n",
       "      <td>0.0</td>\n",
       "    </tr>\n",
       "    <tr>\n",
       "      <th>14</th>\n",
       "      <td>9</td>\n",
       "      <td>08bade48-1081-488f-b459-6c75d75312ae</td>\n",
       "      <td>4</td>\n",
       "      <td>100.000000</td>\n",
       "      <td>2.0</td>\n",
       "      <td>0.0</td>\n",
       "    </tr>\n",
       "    <tr>\n",
       "      <th>15</th>\n",
       "      <td>2</td>\n",
       "      <td>08bade48-1081-488f-b459-6c75d75312ae</td>\n",
       "      <td>4</td>\n",
       "      <td>100.000000</td>\n",
       "      <td>1.0</td>\n",
       "      <td>0.0</td>\n",
       "    </tr>\n",
       "    <tr>\n",
       "      <th>16</th>\n",
       "      <td>29</td>\n",
       "      <td>08bade48-1081-488f-b459-6c75d75312ae</td>\n",
       "      <td>4</td>\n",
       "      <td>100.000000</td>\n",
       "      <td>2.0</td>\n",
       "      <td>0.0</td>\n",
       "    </tr>\n",
       "    <tr>\n",
       "      <th>17</th>\n",
       "      <td>18</td>\n",
       "      <td>08bade48-1081-488f-b459-6c75d75312ae</td>\n",
       "      <td>5</td>\n",
       "      <td>100.000000</td>\n",
       "      <td>1.0</td>\n",
       "      <td>0.0</td>\n",
       "    </tr>\n",
       "    <tr>\n",
       "      <th>18</th>\n",
       "      <td>5</td>\n",
       "      <td>08bade48-1081-488f-b459-6c75d75312ae</td>\n",
       "      <td>1</td>\n",
       "      <td>100.000000</td>\n",
       "      <td>2.0</td>\n",
       "      <td>0.0</td>\n",
       "    </tr>\n",
       "    <tr>\n",
       "      <th>19</th>\n",
       "      <td>23</td>\n",
       "      <td>08bade48-1081-488f-b459-6c75d75312ae</td>\n",
       "      <td>4</td>\n",
       "      <td>100.000000</td>\n",
       "      <td>1.0</td>\n",
       "      <td>0.0</td>\n",
       "    </tr>\n",
       "    <tr>\n",
       "      <th>20</th>\n",
       "      <td>30</td>\n",
       "      <td>43b96c51-f835-4004-a482-183291910268</td>\n",
       "      <td>4</td>\n",
       "      <td>100.000000</td>\n",
       "      <td>1.0</td>\n",
       "      <td>0.0</td>\n",
       "    </tr>\n",
       "    <tr>\n",
       "      <th>21</th>\n",
       "      <td>20</td>\n",
       "      <td>9f9893bd-5eb5-4e79-9e85-48f3b6e33375</td>\n",
       "      <td>8</td>\n",
       "      <td>1060.000000</td>\n",
       "      <td>2.0</td>\n",
       "      <td>0.0</td>\n",
       "    </tr>\n",
       "    <tr>\n",
       "      <th>22</th>\n",
       "      <td>27</td>\n",
       "      <td>9f9893bd-5eb5-4e79-9e85-48f3b6e33375</td>\n",
       "      <td>8</td>\n",
       "      <td>1060.000000</td>\n",
       "      <td>4.0</td>\n",
       "      <td>0.0</td>\n",
       "    </tr>\n",
       "    <tr>\n",
       "      <th>23</th>\n",
       "      <td>19</td>\n",
       "      <td>9f9893bd-5eb5-4e79-9e85-48f3b6e33375</td>\n",
       "      <td>3</td>\n",
       "      <td>559.581152</td>\n",
       "      <td>191.0</td>\n",
       "      <td>0.0</td>\n",
       "    </tr>\n",
       "    <tr>\n",
       "      <th>25</th>\n",
       "      <td>20</td>\n",
       "      <td>9f9893bd-5eb5-4e79-9e85-48f3b6e33375</td>\n",
       "      <td>1</td>\n",
       "      <td>670.000000</td>\n",
       "      <td>1.0</td>\n",
       "      <td>0.0</td>\n",
       "    </tr>\n",
       "    <tr>\n",
       "      <th>26</th>\n",
       "      <td>13</td>\n",
       "      <td>9f9893bd-5eb5-4e79-9e85-48f3b6e33375</td>\n",
       "      <td>1</td>\n",
       "      <td>670.000000</td>\n",
       "      <td>1.0</td>\n",
       "      <td>0.0</td>\n",
       "    </tr>\n",
       "    <tr>\n",
       "      <th>27</th>\n",
       "      <td>20</td>\n",
       "      <td>9f9893bd-5eb5-4e79-9e85-48f3b6e33375</td>\n",
       "      <td>6</td>\n",
       "      <td>320.000000</td>\n",
       "      <td>14.0</td>\n",
       "      <td>0.0</td>\n",
       "    </tr>\n",
       "    <tr>\n",
       "      <th>29</th>\n",
       "      <td>22</td>\n",
       "      <td>9f9893bd-5eb5-4e79-9e85-48f3b6e33375</td>\n",
       "      <td>10</td>\n",
       "      <td>320.000000</td>\n",
       "      <td>4.0</td>\n",
       "      <td>0.0</td>\n",
       "    </tr>\n",
       "    <tr>\n",
       "      <th>30</th>\n",
       "      <td>14</td>\n",
       "      <td>9f9893bd-5eb5-4e79-9e85-48f3b6e33375</td>\n",
       "      <td>7</td>\n",
       "      <td>670.000000</td>\n",
       "      <td>3.0</td>\n",
       "      <td>0.0</td>\n",
       "    </tr>\n",
       "    <tr>\n",
       "      <th>32</th>\n",
       "      <td>14</td>\n",
       "      <td>9f9893bd-5eb5-4e79-9e85-48f3b6e33375</td>\n",
       "      <td>5</td>\n",
       "      <td>680.000000</td>\n",
       "      <td>1.0</td>\n",
       "      <td>0.0</td>\n",
       "    </tr>\n",
       "    <tr>\n",
       "      <th>...</th>\n",
       "      <td>...</td>\n",
       "      <td>...</td>\n",
       "      <td>...</td>\n",
       "      <td>...</td>\n",
       "      <td>...</td>\n",
       "      <td>...</td>\n",
       "    </tr>\n",
       "    <tr>\n",
       "      <th>21419688</th>\n",
       "      <td>3</td>\n",
       "      <td>5820965c-ee83-4def-b61a-edab082b451b</td>\n",
       "      <td>2</td>\n",
       "      <td>170.000000</td>\n",
       "      <td>2.0</td>\n",
       "      <td>0.0</td>\n",
       "    </tr>\n",
       "    <tr>\n",
       "      <th>21419689</th>\n",
       "      <td>26</td>\n",
       "      <td>5820965c-ee83-4def-b61a-edab082b451b</td>\n",
       "      <td>2</td>\n",
       "      <td>170.000000</td>\n",
       "      <td>1.0</td>\n",
       "      <td>0.0</td>\n",
       "    </tr>\n",
       "    <tr>\n",
       "      <th>21419690</th>\n",
       "      <td>27</td>\n",
       "      <td>5820965c-ee83-4def-b61a-edab082b451b</td>\n",
       "      <td>3</td>\n",
       "      <td>170.000000</td>\n",
       "      <td>2.0</td>\n",
       "      <td>0.0</td>\n",
       "    </tr>\n",
       "    <tr>\n",
       "      <th>21419691</th>\n",
       "      <td>4</td>\n",
       "      <td>5820965c-ee83-4def-b61a-edab082b451b</td>\n",
       "      <td>3</td>\n",
       "      <td>170.000000</td>\n",
       "      <td>1.0</td>\n",
       "      <td>0.0</td>\n",
       "    </tr>\n",
       "    <tr>\n",
       "      <th>21419693</th>\n",
       "      <td>3</td>\n",
       "      <td>5820965c-ee83-4def-b61a-edab082b451b</td>\n",
       "      <td>3</td>\n",
       "      <td>170.000000</td>\n",
       "      <td>6.0</td>\n",
       "      <td>0.0</td>\n",
       "    </tr>\n",
       "    <tr>\n",
       "      <th>21419694</th>\n",
       "      <td>10</td>\n",
       "      <td>5820965c-ee83-4def-b61a-edab082b451b</td>\n",
       "      <td>10</td>\n",
       "      <td>170.000000</td>\n",
       "      <td>1.0</td>\n",
       "      <td>0.0</td>\n",
       "    </tr>\n",
       "    <tr>\n",
       "      <th>21419695</th>\n",
       "      <td>2</td>\n",
       "      <td>5820965c-ee83-4def-b61a-edab082b451b</td>\n",
       "      <td>2</td>\n",
       "      <td>170.000000</td>\n",
       "      <td>1.0</td>\n",
       "      <td>0.0</td>\n",
       "    </tr>\n",
       "    <tr>\n",
       "      <th>21419696</th>\n",
       "      <td>4</td>\n",
       "      <td>5820965c-ee83-4def-b61a-edab082b451b</td>\n",
       "      <td>6</td>\n",
       "      <td>170.000000</td>\n",
       "      <td>2.0</td>\n",
       "      <td>0.0</td>\n",
       "    </tr>\n",
       "    <tr>\n",
       "      <th>21419697</th>\n",
       "      <td>3</td>\n",
       "      <td>5820965c-ee83-4def-b61a-edab082b451b</td>\n",
       "      <td>1</td>\n",
       "      <td>170.000000</td>\n",
       "      <td>2.0</td>\n",
       "      <td>0.0</td>\n",
       "    </tr>\n",
       "    <tr>\n",
       "      <th>21419698</th>\n",
       "      <td>4</td>\n",
       "      <td>5820965c-ee83-4def-b61a-edab082b451b</td>\n",
       "      <td>1</td>\n",
       "      <td>170.000000</td>\n",
       "      <td>1.0</td>\n",
       "      <td>0.0</td>\n",
       "    </tr>\n",
       "    <tr>\n",
       "      <th>21419699</th>\n",
       "      <td>4</td>\n",
       "      <td>5820965c-ee83-4def-b61a-edab082b451b</td>\n",
       "      <td>3</td>\n",
       "      <td>170.000000</td>\n",
       "      <td>2.0</td>\n",
       "      <td>0.0</td>\n",
       "    </tr>\n",
       "    <tr>\n",
       "      <th>21419700</th>\n",
       "      <td>26</td>\n",
       "      <td>5820965c-ee83-4def-b61a-edab082b451b</td>\n",
       "      <td>4</td>\n",
       "      <td>170.000000</td>\n",
       "      <td>1.0</td>\n",
       "      <td>0.0</td>\n",
       "    </tr>\n",
       "    <tr>\n",
       "      <th>21419701</th>\n",
       "      <td>20</td>\n",
       "      <td>5820965c-ee83-4def-b61a-edab082b451b</td>\n",
       "      <td>7</td>\n",
       "      <td>170.000000</td>\n",
       "      <td>1.0</td>\n",
       "      <td>0.0</td>\n",
       "    </tr>\n",
       "    <tr>\n",
       "      <th>21419702</th>\n",
       "      <td>20</td>\n",
       "      <td>5820965c-ee83-4def-b61a-edab082b451b</td>\n",
       "      <td>3</td>\n",
       "      <td>170.000000</td>\n",
       "      <td>2.0</td>\n",
       "      <td>0.0</td>\n",
       "    </tr>\n",
       "    <tr>\n",
       "      <th>21419703</th>\n",
       "      <td>28</td>\n",
       "      <td>5820965c-ee83-4def-b61a-edab082b451b</td>\n",
       "      <td>5</td>\n",
       "      <td>170.000000</td>\n",
       "      <td>1.0</td>\n",
       "      <td>0.0</td>\n",
       "    </tr>\n",
       "    <tr>\n",
       "      <th>21419704</th>\n",
       "      <td>21</td>\n",
       "      <td>5820965c-ee83-4def-b61a-edab082b451b</td>\n",
       "      <td>5</td>\n",
       "      <td>170.000000</td>\n",
       "      <td>2.0</td>\n",
       "      <td>0.0</td>\n",
       "    </tr>\n",
       "    <tr>\n",
       "      <th>21419705</th>\n",
       "      <td>21</td>\n",
       "      <td>5820965c-ee83-4def-b61a-edab082b451b</td>\n",
       "      <td>8</td>\n",
       "      <td>170.000000</td>\n",
       "      <td>2.0</td>\n",
       "      <td>0.0</td>\n",
       "    </tr>\n",
       "    <tr>\n",
       "      <th>21419706</th>\n",
       "      <td>21</td>\n",
       "      <td>5820965c-ee83-4def-b61a-edab082b451b</td>\n",
       "      <td>7</td>\n",
       "      <td>170.000000</td>\n",
       "      <td>3.0</td>\n",
       "      <td>0.0</td>\n",
       "    </tr>\n",
       "    <tr>\n",
       "      <th>21419707</th>\n",
       "      <td>23</td>\n",
       "      <td>5820965c-ee83-4def-b61a-edab082b451b</td>\n",
       "      <td>2</td>\n",
       "      <td>170.000000</td>\n",
       "      <td>1.0</td>\n",
       "      <td>0.0</td>\n",
       "    </tr>\n",
       "    <tr>\n",
       "      <th>21419708</th>\n",
       "      <td>12</td>\n",
       "      <td>5820965c-ee83-4def-b61a-edab082b451b</td>\n",
       "      <td>3</td>\n",
       "      <td>170.000000</td>\n",
       "      <td>1.0</td>\n",
       "      <td>0.0</td>\n",
       "    </tr>\n",
       "    <tr>\n",
       "      <th>21419709</th>\n",
       "      <td>1</td>\n",
       "      <td>5820965c-ee83-4def-b61a-edab082b451b</td>\n",
       "      <td>7</td>\n",
       "      <td>170.000000</td>\n",
       "      <td>1.0</td>\n",
       "      <td>0.0</td>\n",
       "    </tr>\n",
       "    <tr>\n",
       "      <th>21419711</th>\n",
       "      <td>26</td>\n",
       "      <td>5820965c-ee83-4def-b61a-edab082b451b</td>\n",
       "      <td>1</td>\n",
       "      <td>170.000000</td>\n",
       "      <td>1.0</td>\n",
       "      <td>0.0</td>\n",
       "    </tr>\n",
       "    <tr>\n",
       "      <th>21419712</th>\n",
       "      <td>20</td>\n",
       "      <td>5820965c-ee83-4def-b61a-edab082b451b</td>\n",
       "      <td>2</td>\n",
       "      <td>170.000000</td>\n",
       "      <td>1.0</td>\n",
       "      <td>0.0</td>\n",
       "    </tr>\n",
       "    <tr>\n",
       "      <th>21419713</th>\n",
       "      <td>21</td>\n",
       "      <td>5820965c-ee83-4def-b61a-edab082b451b</td>\n",
       "      <td>1</td>\n",
       "      <td>170.000000</td>\n",
       "      <td>1.0</td>\n",
       "      <td>0.0</td>\n",
       "    </tr>\n",
       "    <tr>\n",
       "      <th>21419714</th>\n",
       "      <td>13</td>\n",
       "      <td>5820965c-ee83-4def-b61a-edab082b451b</td>\n",
       "      <td>4</td>\n",
       "      <td>170.000000</td>\n",
       "      <td>1.0</td>\n",
       "      <td>0.0</td>\n",
       "    </tr>\n",
       "    <tr>\n",
       "      <th>21419715</th>\n",
       "      <td>28</td>\n",
       "      <td>5820965c-ee83-4def-b61a-edab082b451b</td>\n",
       "      <td>3</td>\n",
       "      <td>170.000000</td>\n",
       "      <td>1.0</td>\n",
       "      <td>0.0</td>\n",
       "    </tr>\n",
       "    <tr>\n",
       "      <th>21419716</th>\n",
       "      <td>19</td>\n",
       "      <td>5820965c-ee83-4def-b61a-edab082b451b</td>\n",
       "      <td>3</td>\n",
       "      <td>170.000000</td>\n",
       "      <td>1.0</td>\n",
       "      <td>0.0</td>\n",
       "    </tr>\n",
       "    <tr>\n",
       "      <th>21419717</th>\n",
       "      <td>24</td>\n",
       "      <td>5820965c-ee83-4def-b61a-edab082b451b</td>\n",
       "      <td>6</td>\n",
       "      <td>170.000000</td>\n",
       "      <td>1.0</td>\n",
       "      <td>0.0</td>\n",
       "    </tr>\n",
       "    <tr>\n",
       "      <th>21419718</th>\n",
       "      <td>28</td>\n",
       "      <td>5820965c-ee83-4def-b61a-edab082b451b</td>\n",
       "      <td>3</td>\n",
       "      <td>170.000000</td>\n",
       "      <td>3.0</td>\n",
       "      <td>0.0</td>\n",
       "    </tr>\n",
       "    <tr>\n",
       "      <th>21419719</th>\n",
       "      <td>11</td>\n",
       "      <td>5820965c-ee83-4def-b61a-edab082b451b</td>\n",
       "      <td>2</td>\n",
       "      <td>170.000000</td>\n",
       "      <td>5.0</td>\n",
       "      <td>0.0</td>\n",
       "    </tr>\n",
       "  </tbody>\n",
       "</table>\n",
       "<p>18069735 rows × 6 columns</p>\n",
       "</div>"
      ],
      "text/plain": [
       "          Day                                Bidder  Position        Price  \\\n",
       "0           1  08bade48-1081-488f-b459-6c75d75312ae         2   100.000000   \n",
       "1          29  08bade48-1081-488f-b459-6c75d75312ae         3   100.000000   \n",
       "2          29  08bade48-1081-488f-b459-6c75d75312ae         2   100.000000   \n",
       "3          11  08bade48-1081-488f-b459-6c75d75312ae         1   100.000000   \n",
       "4          17  08bade48-1081-488f-b459-6c75d75312ae         2   100.000000   \n",
       "5           2  08bade48-1081-488f-b459-6c75d75312ae         9   100.000000   \n",
       "6          28  08bade48-1081-488f-b459-6c75d75312ae         4   100.000000   \n",
       "7          28  08bade48-1081-488f-b459-6c75d75312ae         3   100.000000   \n",
       "8          11  08bade48-1081-488f-b459-6c75d75312ae         2   100.000000   \n",
       "9          18  08bade48-1081-488f-b459-6c75d75312ae         4   100.000000   \n",
       "10         22  08bade48-1081-488f-b459-6c75d75312ae         4   100.000000   \n",
       "11         23  08bade48-1081-488f-b459-6c75d75312ae        10   100.000000   \n",
       "12          2  08bade48-1081-488f-b459-6c75d75312ae         3   100.000000   \n",
       "13          3  08bade48-1081-488f-b459-6c75d75312ae         1   100.000000   \n",
       "14          9  08bade48-1081-488f-b459-6c75d75312ae         4   100.000000   \n",
       "15          2  08bade48-1081-488f-b459-6c75d75312ae         4   100.000000   \n",
       "16         29  08bade48-1081-488f-b459-6c75d75312ae         4   100.000000   \n",
       "17         18  08bade48-1081-488f-b459-6c75d75312ae         5   100.000000   \n",
       "18          5  08bade48-1081-488f-b459-6c75d75312ae         1   100.000000   \n",
       "19         23  08bade48-1081-488f-b459-6c75d75312ae         4   100.000000   \n",
       "20         30  43b96c51-f835-4004-a482-183291910268         4   100.000000   \n",
       "21         20  9f9893bd-5eb5-4e79-9e85-48f3b6e33375         8  1060.000000   \n",
       "22         27  9f9893bd-5eb5-4e79-9e85-48f3b6e33375         8  1060.000000   \n",
       "23         19  9f9893bd-5eb5-4e79-9e85-48f3b6e33375         3   559.581152   \n",
       "25         20  9f9893bd-5eb5-4e79-9e85-48f3b6e33375         1   670.000000   \n",
       "26         13  9f9893bd-5eb5-4e79-9e85-48f3b6e33375         1   670.000000   \n",
       "27         20  9f9893bd-5eb5-4e79-9e85-48f3b6e33375         6   320.000000   \n",
       "29         22  9f9893bd-5eb5-4e79-9e85-48f3b6e33375        10   320.000000   \n",
       "30         14  9f9893bd-5eb5-4e79-9e85-48f3b6e33375         7   670.000000   \n",
       "32         14  9f9893bd-5eb5-4e79-9e85-48f3b6e33375         5   680.000000   \n",
       "...       ...                                   ...       ...          ...   \n",
       "21419688    3  5820965c-ee83-4def-b61a-edab082b451b         2   170.000000   \n",
       "21419689   26  5820965c-ee83-4def-b61a-edab082b451b         2   170.000000   \n",
       "21419690   27  5820965c-ee83-4def-b61a-edab082b451b         3   170.000000   \n",
       "21419691    4  5820965c-ee83-4def-b61a-edab082b451b         3   170.000000   \n",
       "21419693    3  5820965c-ee83-4def-b61a-edab082b451b         3   170.000000   \n",
       "21419694   10  5820965c-ee83-4def-b61a-edab082b451b        10   170.000000   \n",
       "21419695    2  5820965c-ee83-4def-b61a-edab082b451b         2   170.000000   \n",
       "21419696    4  5820965c-ee83-4def-b61a-edab082b451b         6   170.000000   \n",
       "21419697    3  5820965c-ee83-4def-b61a-edab082b451b         1   170.000000   \n",
       "21419698    4  5820965c-ee83-4def-b61a-edab082b451b         1   170.000000   \n",
       "21419699    4  5820965c-ee83-4def-b61a-edab082b451b         3   170.000000   \n",
       "21419700   26  5820965c-ee83-4def-b61a-edab082b451b         4   170.000000   \n",
       "21419701   20  5820965c-ee83-4def-b61a-edab082b451b         7   170.000000   \n",
       "21419702   20  5820965c-ee83-4def-b61a-edab082b451b         3   170.000000   \n",
       "21419703   28  5820965c-ee83-4def-b61a-edab082b451b         5   170.000000   \n",
       "21419704   21  5820965c-ee83-4def-b61a-edab082b451b         5   170.000000   \n",
       "21419705   21  5820965c-ee83-4def-b61a-edab082b451b         8   170.000000   \n",
       "21419706   21  5820965c-ee83-4def-b61a-edab082b451b         7   170.000000   \n",
       "21419707   23  5820965c-ee83-4def-b61a-edab082b451b         2   170.000000   \n",
       "21419708   12  5820965c-ee83-4def-b61a-edab082b451b         3   170.000000   \n",
       "21419709    1  5820965c-ee83-4def-b61a-edab082b451b         7   170.000000   \n",
       "21419711   26  5820965c-ee83-4def-b61a-edab082b451b         1   170.000000   \n",
       "21419712   20  5820965c-ee83-4def-b61a-edab082b451b         2   170.000000   \n",
       "21419713   21  5820965c-ee83-4def-b61a-edab082b451b         1   170.000000   \n",
       "21419714   13  5820965c-ee83-4def-b61a-edab082b451b         4   170.000000   \n",
       "21419715   28  5820965c-ee83-4def-b61a-edab082b451b         3   170.000000   \n",
       "21419716   19  5820965c-ee83-4def-b61a-edab082b451b         3   170.000000   \n",
       "21419717   24  5820965c-ee83-4def-b61a-edab082b451b         6   170.000000   \n",
       "21419718   28  5820965c-ee83-4def-b61a-edab082b451b         3   170.000000   \n",
       "21419719   11  5820965c-ee83-4def-b61a-edab082b451b         2   170.000000   \n",
       "\n",
       "          Impression  Click  \n",
       "0                2.0    0.0  \n",
       "1                1.0    0.0  \n",
       "2                1.0    0.0  \n",
       "3                2.0    0.0  \n",
       "4                1.0    0.0  \n",
       "5                1.0    0.0  \n",
       "6                1.0    0.0  \n",
       "7                1.0    0.0  \n",
       "8                1.0    0.0  \n",
       "9                2.0    0.0  \n",
       "10               1.0    0.0  \n",
       "11               2.0    0.0  \n",
       "12               1.0    0.0  \n",
       "13               2.0    0.0  \n",
       "14               2.0    0.0  \n",
       "15               1.0    0.0  \n",
       "16               2.0    0.0  \n",
       "17               1.0    0.0  \n",
       "18               2.0    0.0  \n",
       "19               1.0    0.0  \n",
       "20               1.0    0.0  \n",
       "21               2.0    0.0  \n",
       "22               4.0    0.0  \n",
       "23             191.0    0.0  \n",
       "25               1.0    0.0  \n",
       "26               1.0    0.0  \n",
       "27              14.0    0.0  \n",
       "29               4.0    0.0  \n",
       "30               3.0    0.0  \n",
       "32               1.0    0.0  \n",
       "...              ...    ...  \n",
       "21419688         2.0    0.0  \n",
       "21419689         1.0    0.0  \n",
       "21419690         2.0    0.0  \n",
       "21419691         1.0    0.0  \n",
       "21419693         6.0    0.0  \n",
       "21419694         1.0    0.0  \n",
       "21419695         1.0    0.0  \n",
       "21419696         2.0    0.0  \n",
       "21419697         2.0    0.0  \n",
       "21419698         1.0    0.0  \n",
       "21419699         2.0    0.0  \n",
       "21419700         1.0    0.0  \n",
       "21419701         1.0    0.0  \n",
       "21419702         2.0    0.0  \n",
       "21419703         1.0    0.0  \n",
       "21419704         2.0    0.0  \n",
       "21419705         2.0    0.0  \n",
       "21419706         3.0    0.0  \n",
       "21419707         1.0    0.0  \n",
       "21419708         1.0    0.0  \n",
       "21419709         1.0    0.0  \n",
       "21419711         1.0    0.0  \n",
       "21419712         1.0    0.0  \n",
       "21419713         1.0    0.0  \n",
       "21419714         1.0    0.0  \n",
       "21419715         1.0    0.0  \n",
       "21419716         1.0    0.0  \n",
       "21419717         1.0    0.0  \n",
       "21419718         3.0    0.0  \n",
       "21419719         5.0    0.0  \n",
       "\n",
       "[18069735 rows x 6 columns]"
      ]
     },
     "execution_count": 43,
     "metadata": {},
     "output_type": "execute_result"
    }
   ],
   "source": [
    "Mdata"
   ]
  },
  {
   "cell_type": "code",
   "execution_count": 64,
   "metadata": {},
   "outputs": [],
   "source": [
    "for i in range(len(CTR)):\n",
    "    CTR[i][2]=CTR[i][1]/CTR[i][0]"
   ]
  },
  {
   "cell_type": "code",
   "execution_count": 66,
   "metadata": {},
   "outputs": [],
   "source": [
    "np.savetxt(\"CTR10.csv\", CTR ,fmt='%5s',delimiter=\",\")"
   ]
  },
  {
   "cell_type": "code",
   "execution_count": null,
   "metadata": {},
   "outputs": [],
   "source": []
  }
 ],
 "metadata": {
  "kernelspec": {
   "display_name": "Python 3",
   "language": "python",
   "name": "python3"
  },
  "language_info": {
   "codemirror_mode": {
    "name": "ipython",
    "version": 3
   },
   "file_extension": ".py",
   "mimetype": "text/x-python",
   "name": "python",
   "nbconvert_exporter": "python",
   "pygments_lexer": "ipython3",
   "version": "3.7.3"
  }
 },
 "nbformat": 4,
 "nbformat_minor": 2
}
